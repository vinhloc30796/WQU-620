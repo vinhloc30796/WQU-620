{
 "cells": [
  {
   "cell_type": "markdown",
   "id": "8c9fc871",
   "metadata": {},
   "source": [
    "## Market Completeness Revisited"
   ]
  },
  {
   "cell_type": "markdown",
   "id": "9ac40158",
   "metadata": {},
   "source": [
    "#### a. Form a matrix with 2 rows and 2 columns. Each row contains a state of the world (up and down). Each column contains a security (stock and bond)."
   ]
  },
  {
   "cell_type": "markdown",
   "id": "d5ca54b3",
   "metadata": {},
   "source": [
    "_**Matrix A**_\n",
    "\n",
    "|State of the world|Stock|Bond|\n",
    "|---|---|---|\n",
    "|up|S<sub>u</sub>|B<sub>u</sub>|\n",
    "|down|S<sub>d</sub>|B<sub>d</sub>|"
   ]
  },
  {
   "cell_type": "markdown",
   "id": "00eb8978",
   "metadata": {},
   "source": [
    "#### b. Pick a specific node. Write down the values for the A matrix"
   ]
  },
  {
   "cell_type": "code",
   "execution_count": 81,
   "id": "065daf4a",
   "metadata": {},
   "outputs": [],
   "source": [
    "n = 2 #Group number\n",
    "S_0 = 95\n",
    "u = 1.1+n/100\n",
    "S_u = S_0*u\n",
    "S_d = S_0/u\n",
    "X_su = S_u-S_0\n",
    "X_sd = S_d-S_0\n",
    "B = 100"
   ]
  },
  {
   "cell_type": "code",
   "execution_count": 82,
   "id": "02f06dde",
   "metadata": {},
   "outputs": [
    {
     "name": "stdout",
     "output_type": "stream",
     "text": [
      "[[106.4        100.        ]\n",
      " [ 84.82142857 100.        ]]\n"
     ]
    }
   ],
   "source": [
    "import numpy as np\n",
    "s_arr = np.array([S_u,S_d])\n",
    "b_arr = B*np.ones(2)\n",
    "A = np.concatenate((s_arr.reshape(2,1),b_arr.reshape(2,1)),axis=1)\n",
    "print(A)"
   ]
  },
  {
   "cell_type": "markdown",
   "id": "f33de48c",
   "metadata": {},
   "source": [
    "#### c. From that node, the stock price may go up or down. Write down the b matrix (which is a column matrix). The first value in b contains the option value if the stock price went up. The second value in b contains the option value if the stock price went down."
   ]
  },
  {
   "cell_type": "markdown",
   "id": "1222c869",
   "metadata": {},
   "source": [
    "_**Matrix B**_\n",
    "\n",
    "||Option Value|\n",
    "|---|---|\n",
    "|up|V<sub>u</sub>|\n",
    "|down|V<sub>d</sub>|"
   ]
  },
  {
   "cell_type": "code",
   "execution_count": 83,
   "id": "13edb5ce",
   "metadata": {},
   "outputs": [],
   "source": [
    "K = 105\n",
    "option_type = 'Call'\n",
    "if option_type =='Call':\n",
    "    V_u = S_u-K #Long Call\n",
    "    V_d = S_d-K #Long Call\n",
    "elif option_type =='Put':\n",
    "    V_u = K-S_u #Long Put\n",
    "    V_d = K-S_d #Long Put\n",
    "B = np.array([V_u,V_d])"
   ]
  },
  {
   "cell_type": "markdown",
   "id": "3308b0d7",
   "metadata": {},
   "source": [
    "#### d. The no-arbitrage equation can be written as Ax=b. How do you solve this equation for x?"
   ]
  },
  {
   "cell_type": "markdown",
   "id": "f095ab14",
   "metadata": {},
   "source": [
    "<center>$Ax=B$</center>"
   ]
  },
  {
   "cell_type": "markdown",
   "id": "103cd540",
   "metadata": {},
   "source": [
    "<center>$x=A^{-1}B$</center>"
   ]
  },
  {
   "cell_type": "markdown",
   "id": "76bc2b31",
   "metadata": {},
   "source": [
    "#### e. Using matrix algebra, solve for x"
   ]
  },
  {
   "cell_type": "code",
   "execution_count": 84,
   "id": "aeeabb34",
   "metadata": {},
   "outputs": [],
   "source": [
    "try:\n",
    "    A_inv = np.linalg.inv(A)\n",
    "    x_arr = np.dot(A_inv,B)\n",
    "except:\n",
    "    x_arr = np.linalg.lstsq(A,B)"
   ]
  },
  {
   "cell_type": "code",
   "execution_count": 85,
   "id": "1bc0f070",
   "metadata": {},
   "outputs": [
    {
     "name": "stdout",
     "output_type": "stream",
     "text": [
      "[ 1.   -1.05]\n"
     ]
    }
   ],
   "source": [
    "print(x_arr)"
   ]
  },
  {
   "cell_type": "markdown",
   "id": "a0e4aea2",
   "metadata": {},
   "source": [
    "#### f. Show that your solution matches that from the binomial tree"
   ]
  },
  {
   "cell_type": "code",
   "execution_count": 86,
   "id": "9d541c79",
   "metadata": {},
   "outputs": [
    {
     "data": {
      "text/plain": [
       "False"
      ]
     },
     "execution_count": 86,
     "metadata": {},
     "output_type": "execute_result"
    }
   ],
   "source": [
    "bi_arr = np.array([1,1])\n",
    "np.array_equal(x_arr, [1, 4])"
   ]
  }
 ],
 "metadata": {
  "kernelspec": {
   "display_name": "Python 3",
   "language": "python",
   "name": "python3"
  },
  "language_info": {
   "codemirror_mode": {
    "name": "ipython",
    "version": 3
   },
   "file_extension": ".py",
   "mimetype": "text/x-python",
   "name": "python",
   "nbconvert_exporter": "python",
   "pygments_lexer": "ipython3",
   "version": "3.8.9"
  }
 },
 "nbformat": 4,
 "nbformat_minor": 5
}
