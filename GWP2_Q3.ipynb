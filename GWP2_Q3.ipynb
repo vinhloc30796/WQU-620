{
 "cells": [
  {
   "cell_type": "markdown",
   "id": "8c9fc871",
   "metadata": {},
   "source": [
    "## Market Completeness Revisited"
   ]
  },
  {
   "cell_type": "markdown",
   "id": "9ac40158",
   "metadata": {},
   "source": [
    "#### a. Form a matrix with 2 rows and 2 columns. Each row contains a state of the world (up and down). Each column contains a security (stock and bond)."
   ]
  },
  {
   "cell_type": "markdown",
   "id": "d5ca54b3",
   "metadata": {},
   "source": [
    "_**Matrix A**_\n",
    "\n",
    "|State of the world|Stock|Bond|\n",
    "|---|---|---|\n",
    "|up|S<sub>u</sub>|B<sub>u</sub>|\n",
    "|down|S<sub>d</sub>|B<sub>d</sub>|"
   ]
  },
  {
   "cell_type": "markdown",
   "id": "00eb8978",
   "metadata": {},
   "source": [
    "#### b. Pick a specific node. Write down the values for the A matrix"
   ]
  },
  {
   "cell_type": "code",
   "execution_count": 82,
   "id": "065daf4a",
   "metadata": {},
   "outputs": [],
   "source": [
    "n = 2 #Group number\n",
    "S_0 = 95\n",
    "u = 1.1+n/100\n",
    "d= 1/u\n",
    "S_u = S_0*u\n",
    "S_d = S_0*d\n",
    "X_su = S_u-S_0\n",
    "X_sd = S_d-S_0\n",
    "B = 100"
   ]
  },
  {
   "cell_type": "code",
   "execution_count": 83,
   "id": "02f06dde",
   "metadata": {},
   "outputs": [
    {
     "name": "stdout",
     "output_type": "stream",
     "text": [
      "[[106.4        100.        ]\n",
      " [ 84.82142857 100.        ]]\n"
     ]
    }
   ],
   "source": [
    "import numpy as np\n",
    "s_arr = np.array([S_u,S_d])\n",
    "b_arr = B*np.ones(2)\n",
    "A = np.concatenate((s_arr.reshape(2,1),b_arr.reshape(2,1)),axis=1)\n",
    "print(A)"
   ]
  },
  {
   "cell_type": "markdown",
   "id": "f33de48c",
   "metadata": {},
   "source": [
    "#### c. From that node, the stock price may go up or down. Write down the b matrix (which is a column matrix). The first value in b contains the option value if the stock price went up. The second value in b contains the option value if the stock price went down."
   ]
  },
  {
   "cell_type": "markdown",
   "id": "1222c869",
   "metadata": {},
   "source": [
    "_**Matrix B**_\n",
    "\n",
    "||Option Value|\n",
    "|---|---|\n",
    "|up|V<sub>u</sub>|\n",
    "|down|V<sub>d</sub>|"
   ]
  },
  {
   "cell_type": "code",
   "execution_count": 84,
   "id": "13edb5ce",
   "metadata": {},
   "outputs": [],
   "source": [
    "K = 105\n",
    "option_type = 'Call'\n",
    "if option_type =='Call':\n",
    "    V_u = max(0,S_u-K) #Long Call\n",
    "    V_d = max(0,S_d-K) #Long Call\n",
    "elif option_type =='Put':\n",
    "    V_u = max(0,K-S_u) #Long Put\n",
    "    V_d = max(0,K-S_d) #Long Put\n",
    "B = np.array([V_u,V_d])"
   ]
  },
  {
   "cell_type": "markdown",
   "id": "3308b0d7",
   "metadata": {},
   "source": [
    "#### d. The no-arbitrage equation can be written as Ax=b. How do you solve this equation for x?"
   ]
  },
  {
   "cell_type": "markdown",
   "id": "f095ab14",
   "metadata": {},
   "source": [
    "<center>$Ax=B$</center>"
   ]
  },
  {
   "cell_type": "markdown",
   "id": "103cd540",
   "metadata": {},
   "source": [
    "<center>$x=A^{-1}B$</center>"
   ]
  },
  {
   "cell_type": "markdown",
   "id": "76bc2b31",
   "metadata": {},
   "source": [
    "#### e. Using matrix algebra, solve for x"
   ]
  },
  {
   "cell_type": "code",
   "execution_count": 85,
   "id": "aeeabb34",
   "metadata": {},
   "outputs": [],
   "source": [
    "try:\n",
    "    A_inv = np.linalg.inv(A)\n",
    "    x_arr = np.dot(A_inv,B)\n",
    "except:\n",
    "    x_arr = np.linalg.lstsq(A,B)"
   ]
  },
  {
   "cell_type": "code",
   "execution_count": 86,
   "id": "1bc0f070",
   "metadata": {},
   "outputs": [
    {
     "name": "stdout",
     "output_type": "stream",
     "text": [
      "[ 0.06487918 -0.05503145]\n"
     ]
    }
   ],
   "source": [
    "print(x_arr)"
   ]
  },
  {
   "cell_type": "code",
   "execution_count": 88,
   "id": "e269e8f6",
   "metadata": {},
   "outputs": [
    {
     "name": "stdout",
     "output_type": "stream",
     "text": [
      "Hedging portfolio of focus stock equal to 0.064879\n"
     ]
    }
   ],
   "source": [
    "m_phi = int(x_arr[0]*1000000)/1000000\n",
    "print(\"Hedging portfolio of focus stock equal to \"+ str(m_phi))"
   ]
  },
  {
   "cell_type": "markdown",
   "id": "a0e4aea2",
   "metadata": {},
   "source": [
    "#### f. Show that your solution matches that from the binomial tree"
   ]
  },
  {
   "cell_type": "markdown",
   "id": "e0ac075d",
   "metadata": {},
   "source": [
    "Consider probability $p$ where the asset price goes up"
   ]
  },
  {
   "cell_type": "markdown",
   "id": "1307954d",
   "metadata": {},
   "source": [
    "<center>$p=(1-d)/(u-d)$</center>"
   ]
  },
  {
   "cell_type": "code",
   "execution_count": 89,
   "id": "c2de768b",
   "metadata": {},
   "outputs": [
    {
     "name": "stdout",
     "output_type": "stream",
     "text": [
      "0.4716981132075471\n"
     ]
    }
   ],
   "source": [
    "p = (1-d)/(u-d)\n",
    "print(p)"
   ]
  },
  {
   "cell_type": "markdown",
   "id": "e7ce6c60",
   "metadata": {},
   "source": [
    "Assume market is complete and the unique no-arbitrage price of $H$, we obtains the option value at $t=0$ by:"
   ]
  },
  {
   "cell_type": "markdown",
   "id": "d54efa89",
   "metadata": {},
   "source": [
    "<center>$\\pi(H) = \\sum_{\\omega\\in\\Omega}H(\\omega)\\prod_{t=1}^{T}p^{\\omega_t}(1-p)^{1-{\\omega_t}}$<center>"
   ]
  },
  {
   "cell_type": "code",
   "execution_count": 90,
   "id": "9f95fce6",
   "metadata": {},
   "outputs": [
    {
     "name": "stdout",
     "output_type": "stream",
     "text": [
      "0.6603773584905687\n"
     ]
    }
   ],
   "source": [
    "V_0 = p*V_u+(1-p)*V_d\n",
    "print(V_0)"
   ]
  },
  {
   "cell_type": "code",
   "execution_count": 91,
   "id": "23e85536",
   "metadata": {},
   "outputs": [
    {
     "name": "stdout",
     "output_type": "stream",
     "text": [
      "[0.06487917907977514, 0.06487917907977515]\n"
     ]
    }
   ],
   "source": [
    "phi_u = (V_u-V_0)/(S_u-S_0)\n",
    "phi_d = (V_d-V_0)/(S_d-S_0)\n",
    "process_phi = [phi_u,phi_d]\n",
    "print(process_phi)"
   ]
  },
  {
   "cell_type": "code",
   "execution_count": 92,
   "id": "9d541c79",
   "metadata": {},
   "outputs": [
    {
     "name": "stdout",
     "output_type": "stream",
     "text": [
      "Hedging portfolio of focus stock from the binomial tree equal to 0.064879\n"
     ]
    }
   ],
   "source": [
    "if int(process_phi[0]*1000000)/1000000==int(process_phi[1]*1000000)/1000000:\n",
    "    bi_phi = int(process_phi[0]*1000000)/1000000\n",
    "    print(\"Hedging portfolio of focus stock from the binomial tree equal to \"+ str(int(process_phi[0]*1000000)/1000000))\n",
    "else: print(\"Check pricing method\")"
   ]
  },
  {
   "cell_type": "code",
   "execution_count": 93,
   "id": "28927780",
   "metadata": {},
   "outputs": [
    {
     "name": "stdout",
     "output_type": "stream",
     "text": [
      "x from matrix algebra matches to hedging porfolio from binomial tree\n"
     ]
    }
   ],
   "source": [
    "if m_phi == bi_phi:\n",
    "    print(\"x from matrix algebra matches to hedging porfolio from binomial tree\")\n",
    "else: print(\"Check pricing method\")"
   ]
  }
 ],
 "metadata": {
  "kernelspec": {
   "display_name": "Python 3",
   "language": "python",
   "name": "python3"
  },
  "language_info": {
   "codemirror_mode": {
    "name": "ipython",
    "version": 3
   },
   "file_extension": ".py",
   "mimetype": "text/x-python",
   "name": "python",
   "nbconvert_exporter": "python",
   "pygments_lexer": "ipython3",
   "version": "3.8.9"
  }
 },
 "nbformat": 4,
 "nbformat_minor": 5
}
