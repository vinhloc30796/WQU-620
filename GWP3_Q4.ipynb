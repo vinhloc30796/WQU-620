{
 "cells": [
  {
   "cell_type": "markdown",
   "metadata": {},
   "source": [
    "# Question 4"
   ]
  },
  {
   "cell_type": "markdown",
   "metadata": {},
   "source": [
    "## Question 4.a & 4.b"
   ]
  },
  {
   "cell_type": "markdown",
   "metadata": {},
   "source": [
    "4.a) Using the binomial tree, if we price an American call or put option, is the market complete?\n",
    "\n",
    "4.b) Using the binomial tree, if we price a European UAO call option, is the market complete?"
   ]
  },
  {
   "cell_type": "markdown",
   "metadata": {},
   "source": [
    "American style options are contingent claims whose expiry date can be at any time before\n",
    "time $T$, and are defined as follows:\n",
    "\n",
    "Call option: \n",
    "$$H=\\left(X_{T}-K\\right)^{+},$$\n",
    "\n",
    "Put option: \n",
    "$$H=\\left(K-X_{T}\\right)^{+}$$, where $K>0$ is called the strike price.\n",
    "\n",
    "An European UAO call option is defined as:\n",
    "$$\n",
    "H=I\\left\\{\\max _{0 \\leq t \\leq T} X_{t} \\geq K\\right\\} \\text { , where } K>0 \\text { is the barrier. }\n",
    "$$\n",
    "\n",
    "For all the contigent claims we previously defined, if $\\mathcal{P} \\neq \\emptyset$ and $H$ can be replicated by a portfolio $\\varphi$ (i.e., $\\left.V_{T}(\\varphi)=H\\right)$, then for any $\\mathbb{P}^{*} \\in \\mathcal{P}$,\n",
    "\n",
    "$$\n",
    "V_{0}(\\varphi)=\\mathbb{E}^{*}\\left(V_{T}(\\varphi)\\right)=\\mathbb{E}^{*}(H)\n",
    "$$\n",
    "\n",
    "If there exists a replicating strategy for $H$, then $H$ has a unique no-arbitrage price $\\pi(H)$ and $H$ is attainable. Given that there is no-arbitrage opportunities, the Fundamental Theorem of Asset Pricing I holds. \n",
    "\n",
    "In order to verify if a market is complete then we need to check that every contingent claim is attainable. The Fundamental Theorem of Asset Pricing II holds that:\n",
    "\n",
    "For a financial market $((\\Omega, \\mathcal{F}, \\mathbb{F}, \\mathbb{P}), X)$ with no arbitrage opportunities, $X$ has the predictable representation property $(P R P)$ with respect to every $\\mathbb{P}^{*} \\in \\mathcal{P}:$ every $\\left(\\mathbb{F}, \\mathbb{P}^{*}\\right)$ -martingale $M$ with $M_{0}=0$ can be written as a martingale transform with respect to $X$.\n",
    "\n",
    "Let $H$ be a contingent claim with $\\mathbb{E}^{*}(|H|)<\\infty$. Then the process $M=\\left\\{M_{t}: t=0,1, \\ldots, T\\right\\}$ defined by $M_{t}:=\\mathbb{E}^{*}\\left(H \\mid \\mathcal{F}_{t}\\right)$ is a martingale with $M_{T}=H .$ By PRP, there exist a predictable process $\\varphi^{H}$ such that\n",
    "$$\n",
    "M_{t}=\\mathbb{E}^{*}(H)+\\sum_{k=1}^{t} \\varphi_{k}^{H} \\cdot\\left(X_{k}-X_{k-1}\\right), \\quad t=1,2, \\ldots, T\n",
    "$$\n",
    "Substituting $t=T$, we see that the process $\\varphi^{H}$ is a replicating strategy for $H$.\n",
    "\n",
    "Since the market is complete, we know that the unique EMM $\\mathbb{P}^{*}$ has $\\mathrm{PRP}$, in the sense that for every $\\left(\\mathbb{F}, \\mathbb{P}^{*}\\right)$ -martingale $M$, there exists a predictable process $\\varphi^{M}$ such that for every $1 \\leq t \\leq T$,\n",
    "\n",
    "$$\n",
    "M_{t}-M_{0}=\\sum_{k=1}^{t} \\varphi_{k}^{M}\\left(X_{k}-X_{k-1}\\right)\n",
    "$$\n",
    "\n",
    "The process $\\varphi^{M}$ advertised above can be found as follows. First note that for each $t \\geq 1$\n",
    "\n",
    "$$\n",
    "M_{t}=M_{t-1}+\\varphi_{t}^{M}\\left(X_{t}-X_{t-1}\\right)\n",
    "$$\n",
    "\n",
    "which implies that\n",
    "\n",
    "$$\n",
    "\\varphi_{t}^{M}=\\frac{M_{t}-M_{t-1}}{X_{t}-X_{t-1}}\n",
    "$$\n",
    "since $X_{t} \\neq X_{t-1}$\n",
    "\n",
    "Since the Fundamental Theorem of Asset Pricing I & II holds, we could say that the market is complete bor both American call and put, and the European UAO."
   ]
  },
  {
   "cell_type": "markdown",
   "metadata": {},
   "source": [
    "## Question 4.c"
   ]
  },
  {
   "cell_type": "markdown",
   "metadata": {},
   "source": [
    "Describe market completeness in mathematical terms using the rank of the A matrix."
   ]
  },
  {
   "cell_type": "markdown",
   "metadata": {},
   "source": [
    "Lets assume that here are $k$ assets and $s$ states for each asset. The assets' payoff is represented by the matrix\n",
    "\n",
    "$$\n",
    "\\underbrace{R}_{S \\times K}=\\left(\\begin{array}{ccc}\n",
    "r_{11} & \\cdots & r_{k 1} \\\\\n",
    "\\vdots & \\ddots & \\vdots \\\\\n",
    "r_{1 s} & \\cdots & r_{k s}\n",
    "\\end{array}\\right)\n",
    "$$\n",
    "\n",
    "Moreover, the $k$-th column of $R$ is the payoff vector $r_{k}$ of asset $k$. If we also have $z$ a portfolio of assets with dimension $K×1$, then the payoff of $z$ is $x=Rz$, for every $x$ with dimension $Sx1$. \n",
    "\n",
    "We can create a complete set state contingent claims if and only if $R$ has full row rank such that $Rank(R)=S$, otherwise the market is incomplete and we will have arbitraje opportunities. In other words,  market completeness means that the payoff vectors, indexed by states, are linearly independent.\n",
    "\n"
   ]
  },
  {
   "cell_type": "markdown",
   "metadata": {},
   "source": [
    "## Question 4.d"
   ]
  },
  {
   "cell_type": "markdown",
   "metadata": {},
   "source": [
    "Describe market completeness in non-technical terms, in at most 1 sentence, or even 1 word! Be concise, but specific."
   ]
  },
  {
   "cell_type": "markdown",
   "metadata": {},
   "source": [
    "In one word, we could define the market completeness with: no-arbitrage. \n",
    "\n",
    "In one sentence, a market is complete when the transaction costs are minimal and all the decision-making information is available to participants; in every state of the world there is a price for every asset. This implies that we can use multiple instruments to replicate one or more instruments in the market.\n",
    "\n"
   ]
  },
  {
   "cell_type": "markdown",
   "metadata": {},
   "source": [
    "## References "
   ]
  },
  {
   "cell_type": "markdown",
   "metadata": {},
   "source": [
    "Hull, John C. (2018).*Options, Futures, and Other Derivatives, Global Edition*. Pearson.\n",
    "\n",
    "Mark D. Flood (1991).*An Introduction to Complete Markets*. Federal Reserve Bank of St. Louis. https://core.ac.uk/download/pdf/6959019.pdf\n",
    "\n",
    "Mitchell, Cory. (2021).*Up-And-Out Option*. Investopidia. https://www.investopedia.com/terms/u/up-and-outoption.asp"
   ]
  }
 ],
 "metadata": {
  "kernelspec": {
   "display_name": "Python 3",
   "language": "python",
   "name": "python3"
  },
  "language_info": {
   "codemirror_mode": {
    "name": "ipython",
    "version": 3
   },
   "file_extension": ".py",
   "mimetype": "text/x-python",
   "name": "python",
   "nbconvert_exporter": "python",
   "pygments_lexer": "ipython3",
   "version": "3.8.5"
  }
 },
 "nbformat": 4,
 "nbformat_minor": 4
}
