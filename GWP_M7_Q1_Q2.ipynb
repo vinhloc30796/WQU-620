{
 "cells": [
  {
   "cell_type": "markdown",
   "id": "7c192ea7",
   "metadata": {},
   "source": [
    "# Group Work Project - M7\n",
    "\n",
    "June 27, 2021\n",
    "\n",
    "- **Course**: MScFE 620 Discrete-time Stochastic Processes\n",
    "- **Professors**:\n",
    "    - Sergio Garcia\n",
    "    - Ivan Blanko\n",
    "- **Class**: C21-S1\n",
    "- Group 2, with members:\n",
    "    - Juan Antonio Vargas Lopez; juanvarl@hotmail.com\n",
    "    - Kanittha Setthapitayakul; kanittha.se@hotmail.com\n",
    "    - Loc Nguyen; vinhloc30796@gmail.com"
   ]
  },
  {
   "cell_type": "markdown",
   "id": "07100faa",
   "metadata": {},
   "source": [
    "### 1. First, consider the case of an American Call option with underlying stock trading at \\\\$95\\, Strike price of \\\\$90 and 1 year maturity. Use the Binomial model with the parameters r=0 and 5 steps in the pricing process. Additionally, set the upper movement of the price (u) to an expression that will depend on the number on your group:"
   ]
  },
  {
   "cell_type": "markdown",
   "id": "8f9a750c",
   "metadata": {},
   "source": [
    "<center>$u=(1.1+\\frac{Group Number}{100})$"
   ]
  },
  {
   "cell_type": "markdown",
   "id": "5ae017d7",
   "metadata": {},
   "source": [
    "And define  <center> $d=\\frac{1}{u}$"
   ]
  },
  {
   "cell_type": "markdown",
   "id": "227ea229",
   "metadata": {},
   "source": [
    "Consider American option"
   ]
  },
  {
   "cell_type": "code",
   "execution_count": 1,
   "id": "9173144b",
   "metadata": {},
   "outputs": [],
   "source": [
    "import numpy as np\n",
    "np.set_printoptions(precision=4, suppress=True) # prettify numpy\n",
    "import pandas as pd\n",
    "pd.set_option('precision', 4) # prettify pandas"
   ]
  },
  {
   "cell_type": "markdown",
   "id": "f96c11aa",
   "metadata": {},
   "source": [
    "Define initial input parameters as below:"
   ]
  },
  {
   "cell_type": "code",
   "execution_count": 2,
   "id": "ed14c895",
   "metadata": {},
   "outputs": [],
   "source": [
    "# Set starting price at $95\n",
    "s0 = 95\n",
    "# Set strike price at $90\n",
    "k = 90\n",
    "r = 0\n",
    "n = 5"
   ]
  },
  {
   "cell_type": "code",
   "execution_count": 3,
   "id": "7ddce799",
   "metadata": {},
   "outputs": [
    {
     "name": "stdout",
     "output_type": "stream",
     "text": [
      "pu=0.4716981132075471\n",
      "pd=0.5283018867924529\n"
     ]
    }
   ],
   "source": [
    "# Calculate u, d, P_star\n",
    "group_number = 2\n",
    "u = 1.10 + group_number/100; d = 1/u\n",
    "pu = (1 - d) / (u - d)\n",
    "pd = 1-pu\n",
    "\n",
    "print('pu='+str(pu))\n",
    "print('pd='+str(pd))"
   ]
  },
  {
   "cell_type": "markdown",
   "id": "bbdf718c",
   "metadata": {},
   "source": [
    "Create Binomial tree regarding to initial parameters:"
   ]
  },
  {
   "cell_type": "code",
   "execution_count": 4,
   "id": "5af2f91c",
   "metadata": {},
   "outputs": [],
   "source": [
    "def stocktree(n,s0,u,d): \n",
    "    n_stocktree = np.zeros((n+1,n+1))\n",
    "    for j in range(n+1):\n",
    "        for i in range(j+1):\n",
    "            n_stocktree[i][j] = s0*(u**i)*(d**(j-i))\n",
    "    return n_stocktree"
   ]
  },
  {
   "cell_type": "code",
   "execution_count": 5,
   "id": "5a4e70c4",
   "metadata": {},
   "outputs": [
    {
     "data": {
      "text/plain": [
       "array([[ 95.    ,  84.8214,  75.7334,  67.6191,  60.3742,  53.9056],\n",
       "       [  0.    , 106.4   ,  95.    ,  84.8214,  75.7334,  67.6191],\n",
       "       [  0.    ,   0.    , 119.168 , 106.4   ,  95.    ,  84.8214],\n",
       "       [  0.    ,   0.    ,   0.    , 133.4682, 119.168 , 106.4   ],\n",
       "       [  0.    ,   0.    ,   0.    ,   0.    , 149.4843, 133.4682],\n",
       "       [  0.    ,   0.    ,   0.    ,   0.    ,   0.    , 167.4225]])"
      ]
     },
     "execution_count": 5,
     "metadata": {},
     "output_type": "execute_result"
    }
   ],
   "source": [
    "step5_stocktree = stocktree(n,s0,u,d)\n",
    "step5_stocktree"
   ]
  },
  {
   "cell_type": "markdown",
   "id": "18dd7460",
   "metadata": {},
   "source": [
    "Create function to calculate European option price in order to compare price between American and European option price"
   ]
  },
  {
   "cell_type": "code",
   "execution_count": 6,
   "id": "690503df",
   "metadata": {},
   "outputs": [],
   "source": [
    "def european_payofftree(bi_tree,n,k,iscall):\n",
    "    payoff_tree = np.zeros((n+1,n+1))\n",
    "    iopt = 0\n",
    "    if iscall:\n",
    "        iopt = 1\n",
    "    else:\n",
    "        iopt = -1\n",
    "    for i in range(n+1):\n",
    "        payoff_tree[i][n] = np.maximum(0, iopt * (bi_tree[i][n]-K))\n",
    "    return payoff_tree\n",
    "\n",
    "def probtree(n,pu,pd):\n",
    "    import math as m\n",
    "    prob_tree = np.zeros((n+1,n+1))\n",
    "    for j in range(n+1):\n",
    "        for i in range(j+1):\n",
    "            prob_tree[i][j] = m.factorial(j) / (m.factorial(i) * m.factorial(j-i))* pu**i * pd**(j-i)\n",
    "    return prob_tree\n",
    "def european_price(eu_payofftree,prob_tree,n):\n",
    "    finalpayoff = 0.0\n",
    "    for i in range(n+1):\n",
    "        finalpayoff = finalpayoff + eu_payofftree[i][n] * prob_tree[i][n]\n",
    "        optionprice = finalpayoff\n",
    "    return finalpayoff"
   ]
  },
  {
   "cell_type": "markdown",
   "id": "c9151548",
   "metadata": {},
   "source": [
    "Calculate option payoff at each nodes"
   ]
  },
  {
   "cell_type": "markdown",
   "id": "0d75acb2",
   "metadata": {},
   "source": [
    "<center>$g_{Call}=max(S_0-K,0)$"
   ]
  },
  {
   "cell_type": "markdown",
   "id": "80c726c0",
   "metadata": {},
   "source": [
    "<center>$g_{Put}=max(K-S_0,0)$"
   ]
  },
  {
   "cell_type": "code",
   "execution_count": 7,
   "id": "2f9feff3",
   "metadata": {},
   "outputs": [],
   "source": [
    "def american_payofftree(bi_tree,n,k,iscall):\n",
    "    payoff_tree = np.zeros((n+1,n+1))\n",
    "    # Get payoffs at each node\n",
    "    if iscall:\n",
    "        iopt = 1\n",
    "    else:\n",
    "        iopt = -1\n",
    "    for j in range(n+1):\n",
    "        for i in range(j+1):\n",
    "            payoff_tree[i][j] = np.maximum(0,iopt*(bi_tree[i][j]-k))\n",
    "    return payoff_tree"
   ]
  },
  {
   "cell_type": "markdown",
   "id": "56dcd319",
   "metadata": {},
   "source": [
    "Calculate value of option at each nodes from backward recursion of option payoff:"
   ]
  },
  {
   "cell_type": "markdown",
   "id": "8ffd4042",
   "metadata": {},
   "source": [
    "<center>$v_{k} = max(\\frac{1}{1+r}[g_{u}(p_{u})+g_{d}(p_{d})],g_{k})$"
   ]
  },
  {
   "cell_type": "code",
   "execution_count": 8,
   "id": "c5ec7b12",
   "metadata": {},
   "outputs": [],
   "source": [
    "def american_optprctree(payoff_tree,pu,pd,K,iscall,r):\n",
    "    opt_prc_tree = payoff_tree\n",
    "    if iscall:\n",
    "        iopt = 1\n",
    "    else:\n",
    "        iopt = -1\n",
    "    for j in range(n-1,-1,-1): \n",
    "        for i in range(j+1):\n",
    "            opt_prc_tree[i][j] = (1/(1+r))*(pu * payoff_tree[i+1][j+1]+ pd * payoff_tree[i][j+1])\n",
    "            opt_prc_tree[i][j] = np.maximum(payoff_tree[i][j],opt_prc_tree[i][j])\n",
    "    return opt_prc_tree     "
   ]
  },
  {
   "cell_type": "code",
   "execution_count": 9,
   "id": "584193ef",
   "metadata": {},
   "outputs": [],
   "source": [
    "def e_americanoptprc(prob_tree,us_pricetree,n):\n",
    "    for j in range(n+1):\n",
    "        expect_price = 0\n",
    "        for i in range(j+1):\n",
    "            expect_price = expect_price + us_pricetree[i][j] * prob_tree[i][j]\n",
    "        print('step '+str(j)+': '+str(expect_price))"
   ]
  },
  {
   "cell_type": "markdown",
   "id": "5c351ff2",
   "metadata": {},
   "source": [
    "#### a. In this setting, find the value of the derivative at each node.\n",
    "\n",
    "#### ANSWER"
   ]
  },
  {
   "cell_type": "code",
   "execution_count": 10,
   "id": "cdfb74d7",
   "metadata": {},
   "outputs": [
    {
     "data": {
      "text/plain": [
       "array([[ 5.    ,  0.    ,  0.    ,  0.    ,  0.    ,  0.    ],\n",
       "       [ 0.    , 16.4   ,  5.    ,  0.    ,  0.    ,  0.    ],\n",
       "       [ 0.    ,  0.    , 29.168 , 16.4   ,  5.    ,  0.    ],\n",
       "       [ 0.    ,  0.    ,  0.    , 43.4682, 29.168 , 16.4   ],\n",
       "       [ 0.    ,  0.    ,  0.    ,  0.    , 59.4843, 43.4682],\n",
       "       [ 0.    ,  0.    ,  0.    ,  0.    ,  0.    , 77.4225]])"
      ]
     },
     "execution_count": 10,
     "metadata": {},
     "output_type": "execute_result"
    }
   ],
   "source": [
    "iscall = True\n",
    "call_us_payofftree = american_payofftree(step5_stocktree,n,k,iscall)\n",
    "call_us_payofftree"
   ]
  },
  {
   "cell_type": "code",
   "execution_count": 11,
   "id": "3601b824",
   "metadata": {},
   "outputs": [
    {
     "data": {
      "text/plain": [
       "array([[12.2963,  5.7892,  1.7212,  0.    ,  0.    ,  0.    ],\n",
       "       [ 0.    , 19.5842, 10.3454,  3.649 ,  0.    ,  0.    ],\n",
       "       [ 0.    ,  0.    , 29.9316, 17.8454,  7.7358,  0.    ],\n",
       "       [ 0.    ,  0.    ,  0.    , 43.4682, 29.168 , 16.4   ],\n",
       "       [ 0.    ,  0.    ,  0.    ,  0.    , 59.4843, 43.4682],\n",
       "       [ 0.    ,  0.    ,  0.    ,  0.    ,  0.    , 77.4225]])"
      ]
     },
     "execution_count": 11,
     "metadata": {},
     "output_type": "execute_result"
    }
   ],
   "source": [
    "call_us_optprctree = american_optprctree(call_us_payofftree,pu,pd,k,iscall,r)\n",
    "call_us_optprctree"
   ]
  },
  {
   "cell_type": "code",
   "execution_count": 12,
   "id": "2a5ba418",
   "metadata": {},
   "outputs": [
    {
     "name": "stdout",
     "output_type": "stream",
     "text": [
      "American call option price is 12.296267645333053\n"
     ]
    }
   ],
   "source": [
    "print('American call option price is '+str(call_us_optprctree[0][0]))"
   ]
  },
  {
   "cell_type": "markdown",
   "id": "166f9f30",
   "metadata": {},
   "source": [
    "#### b. Is there any point time where we, as buyers of the option, benefit from early exercise?"
   ]
  },
  {
   "cell_type": "markdown",
   "id": "8e6253c9",
   "metadata": {},
   "source": [
    "#### Answer: \n",
    "\n",
    "From above, we can see that there is a possibility that the option price is more than different between Spot price and Strike price. Thus, in this case, there is benefit from early exercise."
   ]
  },
  {
   "cell_type": "markdown",
   "id": "e35935a2",
   "metadata": {},
   "source": [
    "#### c. Explain whether your previous answer is (or is not) always the case.\n",
    "\n",
    "#### ANSWER:"
   ]
  },
  {
   "cell_type": "markdown",
   "id": "8e9050fe",
   "metadata": {},
   "source": [
    "For an american call option, early excercise is never benefit to buyer in case the interest rate (r) and the time value applied . For example, if r = 10%, the option price will be"
   ]
  },
  {
   "cell_type": "code",
   "execution_count": 13,
   "id": "d88d9e03",
   "metadata": {},
   "outputs": [
    {
     "data": {
      "text/plain": [
       "array([[ 7.635 ,  3.9541,  1.2932,  0.    ,  0.    ,  0.    ],\n",
       "       [ 0.    , 13.3762,  7.7726,  3.0157,  0.    ,  0.    ],\n",
       "       [ 0.    ,  0.    , 22.488 , 14.7482,  7.0326,  0.    ],\n",
       "       [ 0.    ,  0.    ,  0.    , 35.9241, 26.5164, 16.4   ],\n",
       "       [ 0.    ,  0.    ,  0.    ,  0.    , 54.0767, 43.4682],\n",
       "       [ 0.    ,  0.    ,  0.    ,  0.    ,  0.    , 77.4225]])"
      ]
     },
     "execution_count": 13,
     "metadata": {},
     "output_type": "execute_result"
    }
   ],
   "source": [
    "call_us_optprctree = american_optprctree(call_us_payofftree,pu,pd,k,iscall,0.1)\n",
    "call_us_optprctree"
   ]
  },
  {
   "cell_type": "markdown",
   "id": "12a9e710",
   "metadata": {},
   "source": [
    "We can see that when the spot price more than strike price the option value is lower than its payoff. However, the american call option might be benefit to buyer especially with dividend paying stock."
   ]
  },
  {
   "cell_type": "markdown",
   "id": "25f11a4f",
   "metadata": {},
   "source": [
    "### 2. Consider the same parameters and setting as in (1), but now for pricing an American Put Option."
   ]
  },
  {
   "cell_type": "markdown",
   "id": "d1280f0c",
   "metadata": {},
   "source": [
    "#### a. Find the value of the derivative at each node.\n",
    "\n",
    "#### ANSWER:"
   ]
  },
  {
   "cell_type": "code",
   "execution_count": 14,
   "id": "b43f9658",
   "metadata": {},
   "outputs": [
    {
     "data": {
      "text/plain": [
       "array([[ 0.    ,  5.1786, 14.2666, 22.3809, 29.6258, 36.0944],\n",
       "       [ 0.    ,  0.    ,  0.    ,  5.1786, 14.2666, 22.3809],\n",
       "       [ 0.    ,  0.    ,  0.    ,  0.    ,  0.    ,  5.1786],\n",
       "       [ 0.    ,  0.    ,  0.    ,  0.    ,  0.    ,  0.    ],\n",
       "       [ 0.    ,  0.    ,  0.    ,  0.    ,  0.    ,  0.    ],\n",
       "       [ 0.    ,  0.    ,  0.    ,  0.    ,  0.    ,  0.    ]])"
      ]
     },
     "execution_count": 14,
     "metadata": {},
     "output_type": "execute_result"
    }
   ],
   "source": [
    "iscall = False\n",
    "put_us_payofftree = american_payofftree(step5_stocktree,n,k,iscall)\n",
    "put_us_payofftree"
   ]
  },
  {
   "cell_type": "code",
   "execution_count": 15,
   "id": "bd31d474",
   "metadata": {},
   "outputs": [
    {
     "data": {
      "text/plain": [
       "array([[ 7.2963, 10.9678, 15.9878, 22.3809, 29.6258, 36.0944],\n",
       "       [ 0.    ,  3.1842,  5.3454,  8.8276, 14.2666, 22.3809],\n",
       "       [ 0.    ,  0.    ,  0.7636,  1.4454,  2.7358,  5.1786],\n",
       "       [ 0.    ,  0.    ,  0.    ,  0.    ,  0.    ,  0.    ],\n",
       "       [ 0.    ,  0.    ,  0.    ,  0.    ,  0.    ,  0.    ],\n",
       "       [ 0.    ,  0.    ,  0.    ,  0.    ,  0.    ,  0.    ]])"
      ]
     },
     "execution_count": 15,
     "metadata": {},
     "output_type": "execute_result"
    }
   ],
   "source": [
    "put_us_optprctree = american_optprctree(put_us_payofftree,pu,pd,k,iscall,r)\n",
    "put_us_optprctree"
   ]
  },
  {
   "cell_type": "code",
   "execution_count": 16,
   "id": "3259b2e8",
   "metadata": {},
   "outputs": [
    {
     "name": "stdout",
     "output_type": "stream",
     "text": [
      "American put option price is 7.2962676453330495\n"
     ]
    }
   ],
   "source": [
    "print('American put option price is '+str(put_us_optprctree[0][0]))"
   ]
  },
  {
   "cell_type": "markdown",
   "id": "880932d3",
   "metadata": {},
   "source": [
    "#### b. Is there any point time where we, as buyers of the option, benefit from early exercise?"
   ]
  },
  {
   "cell_type": "markdown",
   "id": "946de6d4",
   "metadata": {},
   "source": [
    "#### ANSWER:\n",
    "\n",
    "From above, we can see that there is a possibility that the option price is more than different between Spot price and Strike price. Thus, in this case, there is benefit from early exercise."
   ]
  },
  {
   "cell_type": "markdown",
   "id": "9af42216",
   "metadata": {},
   "source": [
    "#### c. Explain whether your previous answer is (or is not) always the case."
   ]
  },
  {
   "cell_type": "markdown",
   "id": "3842e7ee",
   "metadata": {},
   "source": [
    "#### ANSWER:\n",
    "\n",
    "The American Put option will not be benefit to buyer to early exercise if the spot price is higher than the exercise boundary. "
   ]
  }
 ],
 "metadata": {
  "kernelspec": {
   "display_name": "Python 3",
   "language": "python",
   "name": "python3"
  },
  "language_info": {
   "codemirror_mode": {
    "name": "ipython",
    "version": 3
   },
   "file_extension": ".py",
   "mimetype": "text/x-python",
   "name": "python",
   "nbconvert_exporter": "python",
   "pygments_lexer": "ipython3",
   "version": "3.8.10"
  }
 },
 "nbformat": 4,
 "nbformat_minor": 5
}
