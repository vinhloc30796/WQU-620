{
 "cells": [
  {
   "cell_type": "markdown",
   "id": "90c09094",
   "metadata": {},
   "source": [
    "* **Course:** MScFE 620 Discrete-time Stochastic Processes\n",
    "* **Professors:** \n",
    "    * Dr. Ivan Blanko;\n",
    "    * Sergio Garcia; \n",
    "* **Class:** C21-S1\n",
    "* Group 2 with members:\n",
    "    * Juan Antonio Vargas Lopez; juanvarl@hotmail.com\n",
    "    * Kanittha Setthapitayakul; kanittha.se@hotmail.com\n",
    "    * Loc Nguyen; vinhloc30796@gmail.com"
   ]
  },
  {
   "cell_type": "code",
   "execution_count": 1,
   "id": "94d18290",
   "metadata": {},
   "outputs": [],
   "source": [
    "# Import helpers\n",
    "from binomial import binomial_tree, binomial_freq\n",
    "from filtration import filtration_set\n",
    "# Import stats\n",
    "import numpy as np\n",
    "np.set_printoptions(precision=4, suppress=True) # prettify numpy\n",
    "import pandas as pd\n",
    "pd.set_option('precision', 4) # prettify pandas\n",
    "import matplotlib.pyplot as plt"
   ]
  },
  {
   "cell_type": "markdown",
   "id": "16857b71",
   "metadata": {},
   "source": [
    "# Question 1) Build a binomial tree for stock price evolution. \n",
    "\n",
    "Specifically, set the upper movement of the price (u) to an expression that will depend on the number on your group.\n",
    "\n",
    "$$u = (1.10 + \\frac{Group Number}{100})$$,\n",
    "\n",
    "Group 1, u = 1.11. Group 2 = 1.12. Group 3 = 1.13, …, Group 50 = 1.60\n",
    "\n",
    "You can define d = 1/u."
   ]
  },
  {
   "cell_type": "markdown",
   "id": "acda5d55",
   "metadata": {},
   "source": [
    "## a) Calculate and show the new Binomial tree for N=6."
   ]
  },
  {
   "cell_type": "code",
   "execution_count": 2,
   "id": "931fd9b1",
   "metadata": {},
   "outputs": [
    {
     "data": {
      "text/html": [
       "<div>\n",
       "<style scoped>\n",
       "    .dataframe tbody tr th:only-of-type {\n",
       "        vertical-align: middle;\n",
       "    }\n",
       "\n",
       "    .dataframe tbody tr th {\n",
       "        vertical-align: top;\n",
       "    }\n",
       "\n",
       "    .dataframe thead th {\n",
       "        text-align: right;\n",
       "    }\n",
       "</style>\n",
       "<table border=\"1\" class=\"dataframe\">\n",
       "  <thead>\n",
       "    <tr style=\"text-align: right;\">\n",
       "      <th></th>\n",
       "      <th>0</th>\n",
       "      <th>1</th>\n",
       "      <th>2</th>\n",
       "      <th>3</th>\n",
       "      <th>4</th>\n",
       "      <th>5</th>\n",
       "      <th>6</th>\n",
       "    </tr>\n",
       "    <tr>\n",
       "      <th>Time Step</th>\n",
       "      <th></th>\n",
       "      <th></th>\n",
       "      <th></th>\n",
       "      <th></th>\n",
       "      <th></th>\n",
       "      <th></th>\n",
       "      <th></th>\n",
       "    </tr>\n",
       "  </thead>\n",
       "  <tbody>\n",
       "    <tr>\n",
       "      <th>0</th>\n",
       "      <td>1.0000</td>\n",
       "      <td>0.0000</td>\n",
       "      <td>0.0000</td>\n",
       "      <td>0.0000</td>\n",
       "      <td>0.0000</td>\n",
       "      <td>0.0000</td>\n",
       "      <td>0.0000</td>\n",
       "    </tr>\n",
       "    <tr>\n",
       "      <th>1</th>\n",
       "      <td>0.8929</td>\n",
       "      <td>1.1200</td>\n",
       "      <td>0.0000</td>\n",
       "      <td>0.0000</td>\n",
       "      <td>0.0000</td>\n",
       "      <td>0.0000</td>\n",
       "      <td>0.0000</td>\n",
       "    </tr>\n",
       "    <tr>\n",
       "      <th>2</th>\n",
       "      <td>0.7972</td>\n",
       "      <td>1.0000</td>\n",
       "      <td>1.2544</td>\n",
       "      <td>0.0000</td>\n",
       "      <td>0.0000</td>\n",
       "      <td>0.0000</td>\n",
       "      <td>0.0000</td>\n",
       "    </tr>\n",
       "    <tr>\n",
       "      <th>3</th>\n",
       "      <td>0.7118</td>\n",
       "      <td>0.8929</td>\n",
       "      <td>1.1200</td>\n",
       "      <td>1.4049</td>\n",
       "      <td>0.0000</td>\n",
       "      <td>0.0000</td>\n",
       "      <td>0.0000</td>\n",
       "    </tr>\n",
       "    <tr>\n",
       "      <th>4</th>\n",
       "      <td>0.6355</td>\n",
       "      <td>0.7972</td>\n",
       "      <td>1.0000</td>\n",
       "      <td>1.2544</td>\n",
       "      <td>1.5735</td>\n",
       "      <td>0.0000</td>\n",
       "      <td>0.0000</td>\n",
       "    </tr>\n",
       "    <tr>\n",
       "      <th>5</th>\n",
       "      <td>0.5674</td>\n",
       "      <td>0.7118</td>\n",
       "      <td>0.8929</td>\n",
       "      <td>1.1200</td>\n",
       "      <td>1.4049</td>\n",
       "      <td>1.7623</td>\n",
       "      <td>0.0000</td>\n",
       "    </tr>\n",
       "    <tr>\n",
       "      <th>6</th>\n",
       "      <td>0.5066</td>\n",
       "      <td>0.6355</td>\n",
       "      <td>0.7972</td>\n",
       "      <td>1.0000</td>\n",
       "      <td>1.2544</td>\n",
       "      <td>1.5735</td>\n",
       "      <td>1.9738</td>\n",
       "    </tr>\n",
       "  </tbody>\n",
       "</table>\n",
       "</div>"
      ],
      "text/plain": [
       "                0       1       2       3       4       5       6\n",
       "Time Step                                                        \n",
       "0          1.0000  0.0000  0.0000  0.0000  0.0000  0.0000  0.0000\n",
       "1          0.8929  1.1200  0.0000  0.0000  0.0000  0.0000  0.0000\n",
       "2          0.7972  1.0000  1.2544  0.0000  0.0000  0.0000  0.0000\n",
       "3          0.7118  0.8929  1.1200  1.4049  0.0000  0.0000  0.0000\n",
       "4          0.6355  0.7972  1.0000  1.2544  1.5735  0.0000  0.0000\n",
       "5          0.5674  0.7118  0.8929  1.1200  1.4049  1.7623  0.0000\n",
       "6          0.5066  0.6355  0.7972  1.0000  1.2544  1.5735  1.9738"
      ]
     },
     "execution_count": 2,
     "metadata": {},
     "output_type": "execute_result"
    }
   ],
   "source": [
    "# Variables\n",
    "N = 6  # Number of layers\n",
    "S0 = 1  # Initial price\n",
    "group_number = 2  # Group Number 2\n",
    "u = 1.10 + group_number/100; d = 1/u\n",
    "\n",
    "tree_6 = binomial_tree(N, S0, u)\n",
    "stock_prices_6 = tree_6[\"stock_prices\"]\n",
    "df_stock_price_6 = pd.DataFrame(stock_prices_6)\n",
    "df_stock_price_6.index.name = 'Time Step'\n",
    "df_stock_price_6"
   ]
  },
  {
   "cell_type": "code",
   "execution_count": 3,
   "id": "9baadcd8",
   "metadata": {},
   "outputs": [
    {
     "data": {
      "text/plain": [
       "0    0.5066\n",
       "1    0.6355\n",
       "2    0.7972\n",
       "3    1.0000\n",
       "4    1.2544\n",
       "5    1.5735\n",
       "6    1.9738\n",
       "Name: 6, dtype: float64"
      ]
     },
     "execution_count": 3,
     "metadata": {},
     "output_type": "execute_result"
    }
   ],
   "source": [
    "### b) What are the terminal values of each path? \n",
    "df_stock_price_6.iloc[-1]"
   ]
  },
  {
   "cell_type": "markdown",
   "id": "1f690362",
   "metadata": {},
   "source": [
    "### b) Define the appropriate filtrations for each of these values.\n",
    "\n",
    "To define the filtration $\\mathbb{F}$, we first define a stochastic process $S = \\{S_t:t=1,...,T\\}$ where:\n",
    "$$ S_t(\\omega) = \\omega_n, \\omega \\in \\Omega, n \\in \\{1,...,2^T\\}$$\n",
    "\n",
    "Define a filtration $\\mathbb{F}=\\{ \\mathcal{F}_t:t=1,...,T \\}$ where $\\mathcal{F}_T$ is the natural filtration of $S$.\n",
    "$$ \\mathcal{F}_T=\\sigma(\\{ S_t:t \\leq T \\}) $$\n",
    "\n",
    "Specifically, in our binomial model with $T=6$:\n",
    "\n",
    "* $\\mathcal{F}_0 = \\{\\emptyset, \\Omega\\}$\n",
    "* $\\mathcal{F}_{1} = \\sigma( \\{w_{1},...,w_{16}\\}, \\{w_{17},...,w_{32}\\}, \\{w_{33},...,w_{48}\\}, \\{w_{49},...,w_{64} \\})$\n",
    "* $\\mathcal{F}_{2} = \\sigma( \\{w_{1},...,w_{8}\\}, \\{w_{9},...,w_{16}\\}, \\{w_{17},...,w_{24}\\}, \\{w_{25},...,w_{32}\\}, \\newline \n",
    "\\{w_{33},...,w_{40}\\}, \\{w_{41},...,w_{48}\\}, \\{w_{49},...,w_{56}\\}, \\{w_{57},...,w_{64}\\})$\n",
    "* $\\mathcal{F}_{3} = \\sigma( \\{w_{1},...,w_{4}\\}, \\{w_{5},...,w_{8}\\}, \\{w_{9},...,w_{12}\\}, \\{w_{13},...,w_{16}\\}, \\newline \n",
    "\\{w_{17},...,w_{20}\\}, \\{w_{21},...,w_{24}\\}, \\{w_{25},...,w_{28}\\}, \\{w_{29},...,w_{32}\\}, \\newline \n",
    "\\{w_{33},...,w_{36}\\}, \\{w_{37},...,w_{40}\\}, \\{w_{41},...,w_{44}\\}, \\{w_{45},...,w_{48}\\}, \\newline \n",
    "\\{w_{49},...,w_{52}\\}, \\{w_{53},...,w_{56}\\}, \\{w_{57},...,w_{60}\\}, \\{w_{61},...,w_{64}\\})$\n",
    "* $\\mathcal{F}_{4} = \\sigma( \\{w_{1},w_{2}\\}, \\{w_{3},w_{4}\\}, \\{w_{5},w_{6}\\}, \\{w_{7},w_{8}\\}, \\{w_{9},w_{10}\\}, \\{w_{11},w_{12}\\}, \\newline \n",
    "\\{w_{13},w_{14}\\}, \\{w_{15},w_{16}\\}, \\{w_{17},w_{18}\\}, \\{w_{19},w_{20}\\}, \\{w_{21},w_{22}\\}, \\{w_{23},w_{24}\\}, \\newline \n",
    "\\{w_{25},w_{26}\\}, \\{w_{27},w_{28}\\}, \\{w_{29},w_{30}\\}, \\{w_{31},w_{32}\\}, \\{w_{33},w_{34}\\}, \\{w_{35},w_{36}\\}, \\newline \n",
    "\\{w_{37},w_{38}\\}, \\{w_{39},w_{40}\\}, \\{w_{41},w_{42}\\}, \\{w_{43},w_{44}\\}, \\{w_{45},w_{46}\\}, \\{w_{47},w_{48}\\}, \\newline \n",
    "\\{w_{49},w_{50}\\}, \\{w_{51},w_{52}\\}, \\{w_{53},w_{54}\\}, \\{w_{55},w_{56}\\}, \\{w_{57},w_{58}\\}, \\{w_{59},w_{60}\\}, \\newline \n",
    "\\{w_{61},w_{62}\\}, \\{w_{63},w_{64}\\})$\n",
    "* $\\mathcal{F}_{5} = \\mathcal{F} = 2^{\\Omega}$"
   ]
  },
  {
   "cell_type": "code",
   "execution_count": 4,
   "id": "70dc0bae",
   "metadata": {
    "scrolled": false
   },
   "outputs": [
    {
     "name": "stdout",
     "output_type": "stream",
     "text": [
      "Sampling first 3 filtrations:\n",
      "\n",
      "\tF0 = [(), ([1.4049280000000004, 1.12, 1.12, 0.8928571428571428, 1.12, 0.8928571428571428, 0.8928571428571429, 0.711780247813411],)]\n",
      "\n",
      "\tF1 = [(), ([1.4049280000000004, 1.12, 1.12, 0.8928571428571428],), ([1.12, 0.8928571428571428, 0.8928571428571429, 0.711780247813411],), ([1.4049280000000004, 1.12, 1.12, 0.8928571428571428], [1.12, 0.8928571428571428, 0.8928571428571429, 0.711780247813411])]\n",
      "\n",
      "\tF2 = [(), ([1.4049280000000004, 1.12],), ([1.12, 0.8928571428571428],), ([1.12, 0.8928571428571428],), ([0.8928571428571429, 0.711780247813411],), ([1.4049280000000004, 1.12], [1.12, 0.8928571428571428]), ([1.4049280000000004, 1.12], [1.12, 0.8928571428571428]), ([1.4049280000000004, 1.12], [0.8928571428571429, 0.711780247813411]), ([1.12, 0.8928571428571428], [1.12, 0.8928571428571428]), ([1.12, 0.8928571428571428], [0.8928571428571429, 0.711780247813411]), ([1.12, 0.8928571428571428], [0.8928571428571429, 0.711780247813411]), ([1.4049280000000004, 1.12], [1.12, 0.8928571428571428], [1.12, 0.8928571428571428]), ([1.4049280000000004, 1.12], [1.12, 0.8928571428571428], [0.8928571428571429, 0.711780247813411]), ([1.4049280000000004, 1.12], [1.12, 0.8928571428571428], [0.8928571428571429, 0.711780247813411]), ([1.12, 0.8928571428571428], [1.12, 0.8928571428571428], [0.8928571428571429, 0.711780247813411]), ([1.4049280000000004, 1.12], [1.12, 0.8928571428571428], [1.12, 0.8928571428571428], [0.8928571428571429, 0.711780247813411])]\n",
      "\n"
     ]
    }
   ],
   "source": [
    "### b) Define the appropriate filtrations for each of these values.\n",
    "print(\"Sampling first 3 filtrations:\\n\")\n",
    "S0 = 1\n",
    "u = 1.12\n",
    "d = 1/u\n",
    "N = 3\n",
    "for i in range(N):\n",
    "    print(f\"\\tF{i} = {filtration_set(S0,u,d,N,i)}\\n\")"
   ]
  },
  {
   "cell_type": "markdown",
   "id": "b01141a2",
   "metadata": {},
   "source": [
    "# Question 2) Finally, recalculate the tree for N=4,000.\n",
    "\n",
    "## a) Plot the terminal prices produced by the model"
   ]
  },
  {
   "cell_type": "code",
   "execution_count": 5,
   "id": "c20277f8",
   "metadata": {},
   "outputs": [],
   "source": [
    "# Variables\n",
    "N = 4000  # number of layers\n",
    "# Recreate the tree\n",
    "tree_4000 = binomial_tree(N, S0, u)\n",
    "stock_prices_4000 = tree_4000[\"stock_prices\"]\n",
    "# Mangling\n",
    "df_P_4000 = pd.DataFrame(stock_prices_4000)\n",
    "P_4000 = df_P_4000.iloc[-1:].to_numpy()"
   ]
  },
  {
   "cell_type": "code",
   "execution_count": 6,
   "id": "51aa39d5",
   "metadata": {},
   "outputs": [],
   "source": [
    "# Calculate the frequency\n",
    "freq_arr = binomial_freq(N, relative=True)"
   ]
  },
  {
   "cell_type": "code",
   "execution_count": 7,
   "id": "f9b3196f",
   "metadata": {},
   "outputs": [
    {
     "data": {
      "image/png": "[encoded data removed]",
      "text/plain": [
       "<Figure size 1080x216 with 1 Axes>"
      ]
     },
     "metadata": {
      "needs_background": "light"
     },
     "output_type": "display_data"
    }
   ],
   "source": [
    "# Plot\n",
    "fig, ax = plt.subplots(\n",
    "    figsize=(15,3)\n",
    ")\n",
    "ax.plot(\n",
    "    P_4000[0],\n",
    "    freq_arr\n",
    ")\n",
    "ax.set_xscale('log')\n",
    "ax.set_xlabel('Log-scaled')\n",
    "plt.show()"
   ]
  },
  {
   "cell_type": "markdown",
   "id": "a5fec058",
   "metadata": {},
   "source": [
    "## b) Can you identify what type of statistical distribution do these prices resemble to?\n",
    "\n",
    "After a log-rescale of the x-axis, the post-rescale prices resemble a normal distribution. \n",
    "Hence, the prices themselves resemble a log-normal distribution."
   ]
  },
  {
   "cell_type": "markdown",
   "id": "d5ddeab0",
   "metadata": {},
   "source": [
    "## c) Which statistical distribution would Returns follow, that  is, using a log-function from previous prices? Indicate the appropriate Probability Density Function for it.\n",
    "\n",
    "\n",
    "### Case 1: if we defined $Return = \\ln(\\frac{Price_t}{Price_{t-1}})$\n",
    "\n",
    "In this case, then $Returns$ are either (roughly) $u-1 \\approx .12$ or $1-d \\approx -.12$.\n",
    "\n",
    "Its distribution is:\n",
    "\n",
    "$$ p_{Returns}(u-1) = p_{Returns}(.12) = \\mathbb{P}(Returns = .12) = p $$\n",
    "$$ p_{Returns}(1-d) = p_{Returns}(-.12) = \\mathbb{P}(Returns = -.12) = 1-p $$\n",
    "\n",
    "where p is the probability of an up-movement.\n",
    "\n",
    "### Case 2: if we defined $Return = \\ln(\\frac{Price_t}{Price_{0}})$\n",
    "\n",
    "then its distribution is the normal distribution,\n",
    "\n",
    "and its PDF is, accordingly:\n",
    "\n",
    "$$ p_{Returns}(x) = \\varphi(x) = \\frac{e^{-\\frac{1}{2} x^2}}{\\sqrt{2\\pi}} $$"
   ]
  },
  {
   "cell_type": "markdown",
   "id": "6700f231",
   "metadata": {},
   "source": [
    "# Question 3)\n",
    "\n",
    "## a) How many fundamental securities are there in the market?\n",
    "\n",
    "There are many fundamental securities in the markets:\n",
    "\n",
    "* Cash & Cash equivalents\n",
    "* Accounts Receivable / Notes Receivables\n",
    "* Fixed Deposits\n",
    "* Equity Shares\n",
    "* Debentures/ Bonds\n",
    "* Preference Shares\n",
    "* Mutual Funds\n",
    "* Interests in subsidiaries, associates and joint ventures\n",
    "* Insurance contracts\n",
    "* Rights and Obligations under leases\n",
    "* Share-Based Payments\n",
    "\n",
    "## b) At any given node, how many states of the world are there in the binomial tree?\n",
    "\n",
    "Each node represents 2 states of the world:\n",
    "\n",
    "* The state where the price goes up\n",
    "* The state where the price goes down\n",
    "\n",
    "## c) Define market completeness using parts a and b\n",
    "\n",
    "A complete market is one where contracts can be made to gamble on all states of the world using the existing instruments\n",
    "\n",
    "## d) Suppose the underlying stock price jumped. By jumps, we mean that it moves by a factor larger than u (or smaller than d) from 1 node to the next. Would that market still be complete? Why or why not?\n",
    "\n",
    "That market is still complete.\n",
    "\n",
    "* If the price has increased by a factor larger than u, then it has also increased (at least) u. That state of the world is still represented in the model.\n",
    "* If the price has decreased by a factor larger than d, then it has also decreased (at least) d. That state of the world is still represented in the model.\n",
    "\n",
    "# References\n",
    "\n",
    "* [Complete Market - Defintions.net](https://www.definitions.net/definition/complete+market)\n",
    "* Crow, Edwin L. Lognormal Distributions: Theory and Applications (2018). CRC Press.ISBN.URL:https://books.google.co.uk/books?id=glMPEAAAQBAJ\n",
    "* John Van Der Hoek, Robert J. Elliott (2006).Binomial Models in Finance. Springer"
   ]
  }
 ],
 "metadata": {
  "kernelspec": {
   "display_name": "Python 3",
   "language": "python",
   "name": "python3"
  },
  "language_info": {
   "codemirror_mode": {
    "name": "ipython",
    "version": 3
   },
   "file_extension": ".py",
   "mimetype": "text/x-python",
   "name": "python",
   "nbconvert_exporter": "python",
   "pygments_lexer": "ipython3",
   "version": "3.8.10"
  }
 },
 "nbformat": 4,
 "nbformat_minor": 5
}
