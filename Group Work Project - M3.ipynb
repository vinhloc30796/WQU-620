{
 "cells": [
  {
   "cell_type": "markdown",
   "id": "90c09094",
   "metadata": {},
   "source": [
    "# Group Work Project - M3\n",
    "\n",
    "* Class: Discrete-time\n",
    "* Professor\n",
    "* Group: 2\n",
    "* Members:"
   ]
  },
  {
   "cell_type": "code",
   "execution_count": 1,
   "id": "94d18290",
   "metadata": {},
   "outputs": [],
   "source": [
    "# Import function\n",
    "from GWP_M3 import binomialTree, binomialFreq\n",
    "import numpy as np\n",
    "import pandas as pd\n",
    "import matplotlib.pyplot as plt\n",
    "\n",
    "np.set_printoptions(precision=3, suppress=True) # prettify numpy"
   ]
  },
  {
   "cell_type": "markdown",
   "id": "16857b71",
   "metadata": {},
   "source": [
    "## Question 1) Build a binomial tree for stock price evolution. \n",
    "\n",
    "Specifically, set the upper movement of the price (u) to an expression that will depend on the number on your group.\n",
    "\n",
    "$$u = (1.10 + \\frac{Group Number}{100})$$,\n",
    "\n",
    "Group 1, u = 1.11. Group 2 = 1.12. Group 3 = 1.13, …, Group 50 = 1.60\n",
    "\n",
    "You can define d = 1/u."
   ]
  },
  {
   "cell_type": "code",
   "execution_count": 2,
   "id": "931fd9b1",
   "metadata": {},
   "outputs": [
    {
     "data": {
      "text/html": [
       "<div>\n",
       "<style scoped>\n",
       "    .dataframe tbody tr th:only-of-type {\n",
       "        vertical-align: middle;\n",
       "    }\n",
       "\n",
       "    .dataframe tbody tr th {\n",
       "        vertical-align: top;\n",
       "    }\n",
       "\n",
       "    .dataframe thead th {\n",
       "        text-align: right;\n",
       "    }\n",
       "</style>\n",
       "<table border=\"1\" class=\"dataframe\">\n",
       "  <thead>\n",
       "    <tr style=\"text-align: right;\">\n",
       "      <th></th>\n",
       "      <th>0</th>\n",
       "      <th>1</th>\n",
       "      <th>2</th>\n",
       "      <th>3</th>\n",
       "      <th>4</th>\n",
       "      <th>5</th>\n",
       "      <th>6</th>\n",
       "    </tr>\n",
       "    <tr>\n",
       "      <th>Time Step</th>\n",
       "      <th></th>\n",
       "      <th></th>\n",
       "      <th></th>\n",
       "      <th></th>\n",
       "      <th></th>\n",
       "      <th></th>\n",
       "      <th></th>\n",
       "    </tr>\n",
       "  </thead>\n",
       "  <tbody>\n",
       "    <tr>\n",
       "      <th>0</th>\n",
       "      <td>1.000000</td>\n",
       "      <td>0.000000</td>\n",
       "      <td>0.000000</td>\n",
       "      <td>0.000000</td>\n",
       "      <td>0.000000</td>\n",
       "      <td>0.000000</td>\n",
       "      <td>0.000000</td>\n",
       "    </tr>\n",
       "    <tr>\n",
       "      <th>1</th>\n",
       "      <td>0.892857</td>\n",
       "      <td>1.120000</td>\n",
       "      <td>0.000000</td>\n",
       "      <td>0.000000</td>\n",
       "      <td>0.000000</td>\n",
       "      <td>0.000000</td>\n",
       "      <td>0.000000</td>\n",
       "    </tr>\n",
       "    <tr>\n",
       "      <th>2</th>\n",
       "      <td>0.797194</td>\n",
       "      <td>1.000000</td>\n",
       "      <td>1.254400</td>\n",
       "      <td>0.000000</td>\n",
       "      <td>0.000000</td>\n",
       "      <td>0.000000</td>\n",
       "      <td>0.000000</td>\n",
       "    </tr>\n",
       "    <tr>\n",
       "      <th>3</th>\n",
       "      <td>0.711780</td>\n",
       "      <td>0.892857</td>\n",
       "      <td>1.120000</td>\n",
       "      <td>1.404928</td>\n",
       "      <td>0.000000</td>\n",
       "      <td>0.000000</td>\n",
       "      <td>0.000000</td>\n",
       "    </tr>\n",
       "    <tr>\n",
       "      <th>4</th>\n",
       "      <td>0.635518</td>\n",
       "      <td>0.797194</td>\n",
       "      <td>1.000000</td>\n",
       "      <td>1.254400</td>\n",
       "      <td>1.573519</td>\n",
       "      <td>0.000000</td>\n",
       "      <td>0.000000</td>\n",
       "    </tr>\n",
       "    <tr>\n",
       "      <th>5</th>\n",
       "      <td>0.567427</td>\n",
       "      <td>0.711780</td>\n",
       "      <td>0.892857</td>\n",
       "      <td>1.120000</td>\n",
       "      <td>1.404928</td>\n",
       "      <td>1.762342</td>\n",
       "      <td>0.000000</td>\n",
       "    </tr>\n",
       "    <tr>\n",
       "      <th>6</th>\n",
       "      <td>0.506631</td>\n",
       "      <td>0.635518</td>\n",
       "      <td>0.797194</td>\n",
       "      <td>1.000000</td>\n",
       "      <td>1.254400</td>\n",
       "      <td>1.573519</td>\n",
       "      <td>1.973823</td>\n",
       "    </tr>\n",
       "  </tbody>\n",
       "</table>\n",
       "</div>"
      ],
      "text/plain": [
       "                  0         1         2         3         4         5  \\\n",
       "Time Step                                                               \n",
       "0          1.000000  0.000000  0.000000  0.000000  0.000000  0.000000   \n",
       "1          0.892857  1.120000  0.000000  0.000000  0.000000  0.000000   \n",
       "2          0.797194  1.000000  1.254400  0.000000  0.000000  0.000000   \n",
       "3          0.711780  0.892857  1.120000  1.404928  0.000000  0.000000   \n",
       "4          0.635518  0.797194  1.000000  1.254400  1.573519  0.000000   \n",
       "5          0.567427  0.711780  0.892857  1.120000  1.404928  1.762342   \n",
       "6          0.506631  0.635518  0.797194  1.000000  1.254400  1.573519   \n",
       "\n",
       "                  6  \n",
       "Time Step            \n",
       "0          0.000000  \n",
       "1          0.000000  \n",
       "2          0.000000  \n",
       "3          0.000000  \n",
       "4          0.000000  \n",
       "5          0.000000  \n",
       "6          1.973823  "
      ]
     },
     "execution_count": 2,
     "metadata": {},
     "output_type": "execute_result"
    }
   ],
   "source": [
    "### a) Calculate and show the new Binomial tree for N=6.\n",
    "\n",
    "# Variables\n",
    "N = 6  # Number of layers\n",
    "S0 = 1  # Initial price\n",
    "group_n = 2  # Group Number 2\n",
    "\n",
    "stock_prices = binomialTree(N, S0, group_n)\n",
    "tree_6steps = pd.DataFrame(stock_prices)\n",
    "tree_6steps.index.name = 'Time Step'\n",
    "tree_6steps"
   ]
  },
  {
   "cell_type": "code",
   "execution_count": 3,
   "id": "9baadcd8",
   "metadata": {},
   "outputs": [
    {
     "name": "stdout",
     "output_type": "stream",
     "text": [
      "[0.567 0.712 0.893 1.12  1.405 1.762 0.   ]\n"
     ]
    }
   ],
   "source": [
    "### b) What are the terminal values of each path? \n",
    "print(stock_prices[N - 1, :])"
   ]
  },
  {
   "cell_type": "code",
   "execution_count": 4,
   "id": "70dc0bae",
   "metadata": {},
   "outputs": [],
   "source": [
    "### b) Define the appropriate filtrations for each of these values.\n",
    "### "
   ]
  },
  {
   "cell_type": "markdown",
   "id": "b01141a2",
   "metadata": {},
   "source": [
    "## Question 2) Finally, recalculate the tree for N=4,000."
   ]
  },
  {
   "cell_type": "code",
   "execution_count": 15,
   "id": "c20277f8",
   "metadata": {},
   "outputs": [
    {
     "name": "stdout",
     "output_type": "stream",
     "text": [
      "[[1.716e-15 2.153e-15 2.701e-15 3.388e-15 4.249e-15 5.331e-15 6.687e-15\n",
      "  8.388e-15 1.052e-14 1.320e-14 1.656e-14 2.077e-14 2.605e-14 3.268e-14\n",
      "  4.099e-14 5.142e-14 6.450e-14 8.091e-14 1.015e-13 1.273e-13 1.597e-13\n",
      "  2.003e-13 2.513e-13 3.152e-13 3.954e-13 4.960e-13 6.222e-13 7.805e-13\n",
      "  9.790e-13 1.228e-12 1.541e-12 1.932e-12 2.424e-12 3.041e-12 3.814e-12\n",
      "  4.785e-12 6.002e-12 7.529e-12 9.444e-12 1.185e-11 1.486e-11 1.864e-11\n",
      "  2.338e-11 2.933e-11 3.679e-11 4.615e-11 5.790e-11 7.263e-11 9.110e-11\n",
      "  1.143e-10 1.433e-10 1.798e-10 2.256e-10 2.829e-10 3.549e-10 4.452e-10\n",
      "  5.585e-10 7.006e-10 8.788e-10 1.102e-09 1.383e-09 1.735e-09 2.176e-09\n",
      "  2.729e-09 3.424e-09 4.295e-09 5.387e-09 6.758e-09 8.477e-09 1.063e-08\n",
      "  1.334e-08 1.673e-08 2.099e-08 2.633e-08 3.303e-08 4.143e-08 5.197e-08\n",
      "  6.519e-08 8.177e-08 1.026e-07 1.287e-07 1.614e-07 2.025e-07 2.540e-07\n",
      "  3.186e-07 3.996e-07 5.013e-07 6.288e-07 7.888e-07 9.895e-07 1.241e-06\n",
      "  1.557e-06 1.953e-06 2.450e-06 3.073e-06 3.855e-06 4.836e-06 6.066e-06\n",
      "  7.609e-06 9.545e-06 1.197e-05 1.502e-05 1.884e-05 2.363e-05 2.964e-05\n",
      "  3.719e-05 4.665e-05 5.851e-05 7.340e-05 9.207e-05 1.155e-04 1.449e-04\n",
      "  1.817e-04 2.280e-04 2.860e-04 3.587e-04 4.500e-04 5.644e-04 7.080e-04\n",
      "  8.881e-04 1.114e-03 1.398e-03 1.753e-03 2.199e-03 2.758e-03 3.460e-03\n",
      "  4.340e-03 5.445e-03 6.830e-03 8.567e-03 1.075e-02 1.348e-02 1.691e-02\n",
      "  2.121e-02 2.661e-02 3.338e-02 4.187e-02 5.252e-02 6.588e-02 8.264e-02\n",
      "  1.037e-01 1.300e-01 1.631e-01 2.046e-01 2.567e-01 3.220e-01 4.039e-01\n",
      "  5.066e-01 6.355e-01 7.972e-01 1.000e+00 1.254e+00 1.574e+00 1.974e+00\n",
      "  2.476e+00 3.106e+00 3.896e+00 4.887e+00 6.130e+00 7.690e+00 9.646e+00\n",
      "  1.210e+01 1.518e+01 1.904e+01 2.388e+01 2.996e+01 3.758e+01 4.714e+01\n",
      "  5.914e+01 7.418e+01 9.305e+01 1.167e+02 1.464e+02 1.837e+02 2.304e+02\n",
      "  2.890e+02 3.625e+02 4.548e+02 5.704e+02 7.156e+02 8.976e+02 1.126e+03\n",
      "  1.412e+03 1.772e+03 2.222e+03 2.788e+03 3.497e+03 4.387e+03 5.503e+03\n",
      "  6.902e+03 8.658e+03 1.086e+04 1.362e+04 1.709e+04 2.144e+04 2.689e+04\n",
      "  3.373e+04 4.231e+04 5.308e+04 6.658e+04 8.352e+04 1.048e+05 1.314e+05\n",
      "  1.649e+05 2.068e+05 2.594e+05 3.254e+05 4.082e+05 5.120e+05 6.423e+05\n",
      "  8.057e+05 1.011e+06 1.268e+06 1.590e+06 1.995e+06 2.502e+06 3.139e+06\n",
      "  3.937e+06 4.939e+06 6.196e+06 7.772e+06 9.749e+06 1.223e+07 1.534e+07\n",
      "  1.924e+07 2.414e+07 3.028e+07 3.798e+07 4.764e+07 5.977e+07 7.497e+07\n",
      "  9.404e+07 1.180e+08 1.480e+08 1.856e+08 2.328e+08 2.921e+08 3.664e+08\n",
      "  4.596e+08 5.765e+08 7.232e+08 9.072e+08 1.138e+09 1.427e+09 1.791e+09\n",
      "  2.246e+09 2.817e+09 3.534e+09 4.433e+09 5.561e+09 6.976e+09 8.751e+09\n",
      "  1.098e+10 1.377e+10 1.727e+10 2.167e+10 2.718e+10 3.409e+10 4.277e+10\n",
      "  5.364e+10 6.729e+10 8.441e+10 1.059e+11 1.328e+11 1.666e+11 2.090e+11\n",
      "  2.622e+11 3.289e+11 4.125e+11 5.175e+11 6.491e+11 8.143e+11 1.021e+12\n",
      "  1.281e+12 1.607e+12 2.016e+12 2.529e+12 3.172e+12 3.979e+12 4.992e+12\n",
      "  6.262e+12 7.855e+12 9.853e+12 1.236e+13 1.550e+13 1.945e+13 2.440e+13\n",
      "  3.060e+13 3.839e+13 4.815e+13 6.040e+13 7.577e+13 9.504e+13 1.192e+14\n",
      "  1.496e+14 1.876e+14 2.353e+14 2.952e+14 3.703e+14 4.645e+14 5.826e+14]]\n"
     ]
    },
    {
     "data": {
      "image/png": "[encoded data removed]",
      "text/plain": [
       "<Figure size 1800x504 with 1 Axes>"
      ]
     },
     "metadata": {
      "needs_background": "light"
     },
     "output_type": "display_data"
    }
   ],
   "source": [
    "# Variables\n",
    "S0 = 1  # Initial Price\n",
    "N = 300  # number of layers\n",
    "group_n = 2  # Group Number 2\n",
    "# Recreate the tree\n",
    "stock_prices = binomialTree(N, S0, group_n)\n",
    "df_P_N = pd.DataFrame(stock_prices)\n",
    "P_N = df_P_N.iloc[-1:].to_numpy()\n",
    "print(P_N)\n",
    "# =============================================================================\n",
    "freq_arr = binomialFreq(N)\n",
    "tuple_data = (\n",
    "    P_N[0], \n",
    "    freq_arr\n",
    ")\n",
    "# Plot\n",
    "fig, ax = plt.subplots(\n",
    "    figsize=(25,7)\n",
    ")\n",
    "ax.scatter(\n",
    "    P_N[0] * (10**-14),\n",
    "    freq_arr\n",
    ")\n",
    "ax.set_xscale('log')\n",
    "ax.set_xlabel('Log-scaled - 1e14')\n",
    "plt.show()"
   ]
  },
  {
   "cell_type": "markdown",
   "id": "f53a9e49",
   "metadata": {},
   "source": [
    "### b) Can you identify what type of statistical distribution do these prices resemble to?\n",
    "\n",
    "Log-normal distribution"
   ]
  },
  {
   "cell_type": "markdown",
   "id": "6a460e9f",
   "metadata": {},
   "source": [
    "### c) If we defined 𝑅𝑅𝑅𝑅𝑅𝑅𝑅𝑅𝑅𝑅𝑅𝑅 = 𝐿𝐿𝐿𝐿( 𝑃𝑃𝑟𝑟𝑟𝑟𝑟𝑟𝑟𝑟𝑡𝑡 𝑃𝑃𝑃𝑃𝑃𝑃𝑃𝑃𝑃𝑃𝑡𝑡−1), that  is, using a log-function from previous prices, which statistical distribution would Returns follow? Indicate the appropriate Probability Density Function for it.\n",
    "\n",
    "Normal distribution"
   ]
  },
  {
   "cell_type": "markdown",
   "id": "6700f231",
   "metadata": {},
   "source": [
    "## Question 3\n",
    "\n",
    "### a) How many fundamental securities are there in the market?\n",
    "\n",
    "There are many fundamental securities in the markets:\n",
    "\n",
    "* Cash & Cash equivalents\n",
    "* Accounts Receivable / Notes Receivables\n",
    "* Fixed Deposits\n",
    "* Equity Shares\n",
    "* Debentures/ Bonds\n",
    "* Preference Shares\n",
    "* Mutual Funds\n",
    "* Interests in subsidiaries, associates and joint ventures\n",
    "* Insurance contracts\n",
    "* Rights and Obligations under leases\n",
    "* Share-Based Payments\n",
    "\n",
    "### b) At any given node, how many states of the world are there in the binomial tree?\n",
    "\n",
    "Each node represents 2 states of the world:\n",
    "\n",
    "* The state where the price goes up\n",
    "* The state where the price goes down\n",
    "\n",
    "### c) Define market completeness using parts a and b\n",
    "\n",
    "A complete market is one where contracts can be made to gamble on all states of the world using the existing instruments\n",
    "\n",
    "### d) Suppose the underlying stock price jumped. By jumps, we mean that it moves by a factor larger than u (or smaller than d) from 1 node to the next. Would that market still be complete? Why or why not?\n",
    "\n",
    "That market is still complete.\n",
    "\n",
    "* If the price has increased by a factor larger than u, then it has also increased (at least) u. That state of the world is still represented in the model.\n",
    "* If the price has decreased by a factor larger than d, then it has also decreased (at least) d. That state of the world is still represented in the model.\n",
    "\n",
    "## References\n",
    "\n",
    "* [Complete Market - Defintions.net](https://www.definitions.net/definition/complete+market)"
   ]
  }
 ],
 "metadata": {
  "kernelspec": {
   "display_name": "Python 3",
   "language": "python",
   "name": "python3"
  },
  "language_info": {
   "codemirror_mode": {
    "name": "ipython",
    "version": 3
   },
   "file_extension": ".py",
   "mimetype": "text/x-python",
   "name": "python",
   "nbconvert_exporter": "python",
   "pygments_lexer": "ipython3",
   "version": "3.8.5"
  }
 },
 "nbformat": 4,
 "nbformat_minor": 5
}
