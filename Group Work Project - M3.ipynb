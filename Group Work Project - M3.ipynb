{
 "cells": [
  {
   "cell_type": "markdown",
   "id": "85fa0a6b",
   "metadata": {},
   "source": [
    "# Group Work Project - M3\n",
    "\n",
    "* Class: \n",
    "* Professor\n",
    "* Group: 2\n",
    "* Members:"
   ]
  },
  {
   "cell_type": "code",
   "execution_count": 9,
   "id": "43f6aafc",
   "metadata": {},
   "outputs": [],
   "source": [
    "# Import function\n",
    "np.set_printoptions(precision=3, suppress=True) # prettify numpy\n",
    "from GWP_M3 import Binomial_Tree"
   ]
  },
  {
   "cell_type": "markdown",
   "id": "322cb24b",
   "metadata": {},
   "source": [
    "## Question 1) Build a binomial tree for stock price evolution. \n",
    "\n",
    "Specifically, set the upper movement of the price (u) to an expression that will depend on the number on your group.\n",
    "\n",
    "$$u = (1.10 + \\frac{Group Number}{100})$$,\n",
    "\n",
    "Group 1, u = 1.11. Group 2 = 1.12. Group 3 = 1.13, …, Group 50 = 1.60\n",
    "\n",
    "You can define d = 1/u."
   ]
  },
  {
   "cell_type": "code",
   "execution_count": 10,
   "id": "32fcaace",
   "metadata": {},
   "outputs": [
    {
     "data": {
      "text/plain": [
       "array([[1.   , 0.   , 0.   , 0.   , 0.   , 0.   ],\n",
       "       [0.893, 1.12 , 0.   , 0.   , 0.   , 0.   ],\n",
       "       [0.797, 1.   , 1.254, 0.   , 0.   , 0.   ],\n",
       "       [0.712, 0.893, 1.12 , 1.405, 0.   , 0.   ],\n",
       "       [0.636, 0.797, 1.   , 1.254, 1.574, 0.   ],\n",
       "       [0.567, 0.712, 0.893, 1.12 , 1.405, 1.762]])"
      ]
     },
     "execution_count": 10,
     "metadata": {},
     "output_type": "execute_result"
    }
   ],
   "source": [
    "### a) Calculate and show the new Binomial tree for N=6.\n",
    "\n",
    "# Variables\n",
    "N = 6  # Number of layers\n",
    "S0 = 1  # Initial price\n",
    "group_n = 2  # Group Number 2\n",
    "\n",
    "stock_prices = Binomial_Tree(N, S0, group_n)\n",
    "stock_prices"
   ]
  },
  {
   "cell_type": "code",
   "execution_count": 11,
   "id": "472e2ac7",
   "metadata": {},
   "outputs": [
    {
     "name": "stdout",
     "output_type": "stream",
     "text": [
      "[0.567 0.712 0.893 1.12  1.405 1.762]\n"
     ]
    }
   ],
   "source": [
    "### b) What are the terminal values of each path? \n",
    "print(stock_prices[N - 1, :])"
   ]
  },
  {
   "cell_type": "code",
   "execution_count": null,
   "id": "8e6e1c07",
   "metadata": {},
   "outputs": [],
   "source": [
    "### b) Define the appropriate filtrations for each of these values.\n",
    "### TODO"
   ]
  },
  {
   "cell_type": "markdown",
   "id": "d8e2ea42",
   "metadata": {},
   "source": [
    "## Question 2) Finally, recalculate the tree for N=4,000."
   ]
  },
  {
   "cell_type": "code",
   "execution_count": null,
   "id": "861c46d5",
   "metadata": {},
   "outputs": [],
   "source": [
    "### a) Plot the terminal prices produced by the model (You may use a histogram for this).\n",
    "\n",
    "# Variables\n",
    "S0 = 100  # Initial Price\n",
    "N = 101  # number of layers\n",
    "group_n = 2  # Group Number 2\n",
    "\n",
    "stock_prices = Binomial_Tree(N, S0, group_n)\n",
    "df_P_N = pd.DataFrame(stock_prices)\n",
    "P_N = df_P_N.iloc[-1:].T\n",
    "\n",
    "P_N.describe()\n",
    "plt.hist(P_N, 25)"
   ]
  },
  {
   "cell_type": "code",
   "execution_count": null,
   "id": "f9a1a8e6",
   "metadata": {},
   "outputs": [],
   "source": [
    "### b)\n",
    "### TODO"
   ]
  },
  {
   "cell_type": "code",
   "execution_count": null,
   "id": "d187dea5",
   "metadata": {},
   "outputs": [],
   "source": [
    "### c)\n",
    "### TODO"
   ]
  },
  {
   "cell_type": "markdown",
   "id": "f7345bf1",
   "metadata": {},
   "source": [
    "## Question 3\n",
    "\n",
    "### a) How many fundamental securities are there in the market?\n",
    "\n",
    "There are many fundamental securities in the markets:\n",
    "\n",
    "* Cash & Cash equivalents\n",
    "* Accounts Receivable / Notes Receivables\n",
    "* Fixed Deposits\n",
    "* Equity Shares\n",
    "* Debentures/ Bonds\n",
    "* Preference Shares\n",
    "* Mutual Funds\n",
    "* Interests in subsidiaries, associates and joint ventures\n",
    "* Insurance contracts\n",
    "* Rights and Obligations under leases\n",
    "* Share-Based Payments\n",
    "\n",
    "### b) At any given node, how many states of the world are there in the binomial tree?\n",
    "\n",
    "Each node represents 2 states of the world:\n",
    "\n",
    "* The state where the price goes up\n",
    "* The state where the price goes down\n",
    "\n",
    "### c) Define market completeness using parts a and b\n",
    "\n",
    "A complete market is one where contracts can be made to gamble on all states of the world using the existing instruments\n",
    "\n",
    "### d) Suppose the underlying stock price jumped. By jumps, we mean that it moves by a factor larger than u (or smaller than d) from 1 node to the next. Would that market still be complete? Why or why not?\n",
    "\n",
    "That market is still complete.\n",
    "\n",
    "* If the price has increased by a factor larger than u, then it has also increased (at least) u. That state of the world is still represented in the model.\n",
    "* If the price has decreased by a factor larger than d, then it has also decreased (at least) d. That state of the world is still represented in the model.\n",
    "\n",
    "## References\n",
    "\n",
    "* [Complete Market - Defintions.net](https://www.definitions.net/definition/complete+market)"
   ]
  }
 ],
 "metadata": {
  "kernelspec": {
   "display_name": "Python 3",
   "language": "python",
   "name": "python3"
  },
  "language_info": {
   "codemirror_mode": {
    "name": "ipython",
    "version": 3
   },
   "file_extension": ".py",
   "mimetype": "text/x-python",
   "name": "python",
   "nbconvert_exporter": "python",
   "pygments_lexer": "ipython3",
   "version": "3.8.5"
  }
 },
 "nbformat": 4,
 "nbformat_minor": 5
}
