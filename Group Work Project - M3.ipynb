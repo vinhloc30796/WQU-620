{
 "cells": [
  {
   "cell_type": "markdown",
   "id": "90c09094",
   "metadata": {},
   "source": [
    "# Group Work Project - M3\n",
    "\n",
    "* Class: Discrete-time\n",
    "* Professor\n",
    "* Group: 2\n",
    "* Members:"
   ]
  },
  {
   "cell_type": "code",
   "execution_count": 1,
   "id": "94d18290",
   "metadata": {},
   "outputs": [],
   "source": [
    "# Import function\n",
    "from GWP_M3 import binomialTree, binomialFreq\n",
    "import numpy as np\n",
    "np.set_printoptions(precision=3, suppress=True) # prettify numpy\n",
    "import pandas as pd\n",
    "import matplotlib.pyplot as plt\n"
   ]
  },
  {
   "cell_type": "markdown",
   "id": "16857b71",
   "metadata": {},
   "source": [
    "## Question 1) Build a binomial tree for stock price evolution. \n",
    "\n",
    "Specifically, set the upper movement of the price (u) to an expression that will depend on the number on your group.\n",
    "\n",
    "$$u = (1.10 + \\frac{Group Number}{100})$$,\n",
    "\n",
    "Group 1, u = 1.11. Group 2 = 1.12. Group 3 = 1.13, …, Group 50 = 1.60\n",
    "\n",
    "You can define d = 1/u."
   ]
  },
  {
   "cell_type": "code",
   "execution_count": 2,
   "id": "931fd9b1",
   "metadata": {},
   "outputs": [
    {
     "data": {
      "text/html": [
       "<div>\n",
       "<style scoped>\n",
       "    .dataframe tbody tr th:only-of-type {\n",
       "        vertical-align: middle;\n",
       "    }\n",
       "\n",
       "    .dataframe tbody tr th {\n",
       "        vertical-align: top;\n",
       "    }\n",
       "\n",
       "    .dataframe thead th {\n",
       "        text-align: right;\n",
       "    }\n",
       "</style>\n",
       "<table border=\"1\" class=\"dataframe\">\n",
       "  <thead>\n",
       "    <tr style=\"text-align: right;\">\n",
       "      <th></th>\n",
       "      <th>0</th>\n",
       "      <th>1</th>\n",
       "      <th>2</th>\n",
       "      <th>3</th>\n",
       "      <th>4</th>\n",
       "      <th>5</th>\n",
       "      <th>6</th>\n",
       "    </tr>\n",
       "    <tr>\n",
       "      <th>Time Step</th>\n",
       "      <th></th>\n",
       "      <th></th>\n",
       "      <th></th>\n",
       "      <th></th>\n",
       "      <th></th>\n",
       "      <th></th>\n",
       "      <th></th>\n",
       "    </tr>\n",
       "  </thead>\n",
       "  <tbody>\n",
       "    <tr>\n",
       "      <th>0</th>\n",
       "      <td>1.000000</td>\n",
       "      <td>0.000000</td>\n",
       "      <td>0.000000</td>\n",
       "      <td>0.000000</td>\n",
       "      <td>0.000000</td>\n",
       "      <td>0.000000</td>\n",
       "      <td>0.000000</td>\n",
       "    </tr>\n",
       "    <tr>\n",
       "      <th>1</th>\n",
       "      <td>0.892857</td>\n",
       "      <td>1.120000</td>\n",
       "      <td>0.000000</td>\n",
       "      <td>0.000000</td>\n",
       "      <td>0.000000</td>\n",
       "      <td>0.000000</td>\n",
       "      <td>0.000000</td>\n",
       "    </tr>\n",
       "    <tr>\n",
       "      <th>2</th>\n",
       "      <td>0.797194</td>\n",
       "      <td>1.000000</td>\n",
       "      <td>1.254400</td>\n",
       "      <td>0.000000</td>\n",
       "      <td>0.000000</td>\n",
       "      <td>0.000000</td>\n",
       "      <td>0.000000</td>\n",
       "    </tr>\n",
       "    <tr>\n",
       "      <th>3</th>\n",
       "      <td>0.711780</td>\n",
       "      <td>0.892857</td>\n",
       "      <td>1.120000</td>\n",
       "      <td>1.404928</td>\n",
       "      <td>0.000000</td>\n",
       "      <td>0.000000</td>\n",
       "      <td>0.000000</td>\n",
       "    </tr>\n",
       "    <tr>\n",
       "      <th>4</th>\n",
       "      <td>0.635518</td>\n",
       "      <td>0.797194</td>\n",
       "      <td>1.000000</td>\n",
       "      <td>1.254400</td>\n",
       "      <td>1.573519</td>\n",
       "      <td>0.000000</td>\n",
       "      <td>0.000000</td>\n",
       "    </tr>\n",
       "    <tr>\n",
       "      <th>5</th>\n",
       "      <td>0.567427</td>\n",
       "      <td>0.711780</td>\n",
       "      <td>0.892857</td>\n",
       "      <td>1.120000</td>\n",
       "      <td>1.404928</td>\n",
       "      <td>1.762342</td>\n",
       "      <td>0.000000</td>\n",
       "    </tr>\n",
       "    <tr>\n",
       "      <th>6</th>\n",
       "      <td>0.506631</td>\n",
       "      <td>0.635518</td>\n",
       "      <td>0.797194</td>\n",
       "      <td>1.000000</td>\n",
       "      <td>1.254400</td>\n",
       "      <td>1.573519</td>\n",
       "      <td>1.973823</td>\n",
       "    </tr>\n",
       "  </tbody>\n",
       "</table>\n",
       "</div>"
      ],
      "text/plain": [
       "                  0         1         2         3         4         5  \\\n",
       "Time Step                                                               \n",
       "0          1.000000  0.000000  0.000000  0.000000  0.000000  0.000000   \n",
       "1          0.892857  1.120000  0.000000  0.000000  0.000000  0.000000   \n",
       "2          0.797194  1.000000  1.254400  0.000000  0.000000  0.000000   \n",
       "3          0.711780  0.892857  1.120000  1.404928  0.000000  0.000000   \n",
       "4          0.635518  0.797194  1.000000  1.254400  1.573519  0.000000   \n",
       "5          0.567427  0.711780  0.892857  1.120000  1.404928  1.762342   \n",
       "6          0.506631  0.635518  0.797194  1.000000  1.254400  1.573519   \n",
       "\n",
       "                  6  \n",
       "Time Step            \n",
       "0          0.000000  \n",
       "1          0.000000  \n",
       "2          0.000000  \n",
       "3          0.000000  \n",
       "4          0.000000  \n",
       "5          0.000000  \n",
       "6          1.973823  "
      ]
     },
     "execution_count": 2,
     "metadata": {},
     "output_type": "execute_result"
    }
   ],
   "source": [
    "### a) Calculate and show the new Binomial tree for N=6.\n",
    "\n",
    "# Variables\n",
    "N = 6  # Number of layers\n",
    "S0 = 1  # Initial price\n",
    "group_n = 2  # Group Number 2\n",
    "\n",
    "tree_6 = binomialTree(N, S0, group_n)\n",
    "stock_prices_6 = tree_6[\"stock_prices\"]\n",
    "df_stock_price_6 = pd.DataFrame(stock_prices_6)\n",
    "df_stock_price_6.index.name = 'Time Step'\n",
    "df_stock_price_6"
   ]
  },
  {
   "cell_type": "code",
   "execution_count": 4,
   "id": "9baadcd8",
   "metadata": {},
   "outputs": [
    {
     "data": {
      "text/plain": [
       "0    0.506631\n",
       "1    0.635518\n",
       "2    0.797194\n",
       "3    1.000000\n",
       "4    1.254400\n",
       "5    1.573519\n",
       "6    1.973823\n",
       "Name: 6, dtype: float64"
      ]
     },
     "execution_count": 4,
     "metadata": {},
     "output_type": "execute_result"
    }
   ],
   "source": [
    "### b) What are the terminal values of each path? \n",
    "df_stock_price_6.iloc[-1]"
   ]
  },
  {
   "cell_type": "code",
   "execution_count": null,
   "id": "70dc0bae",
   "metadata": {},
   "outputs": [],
   "source": [
    "### b) Define the appropriate filtrations for each of these values.\n",
    "### "
   ]
  },
  {
   "cell_type": "markdown",
   "id": "b01141a2",
   "metadata": {},
   "source": [
    "## Question 2) Finally, recalculate the tree for N=4,000."
   ]
  },
  {
   "cell_type": "code",
   "execution_count": 5,
   "id": "c20277f8",
   "metadata": {},
   "outputs": [],
   "source": [
    "# Variables\n",
    "S0 = 1  # Initial Price\n",
    "N = 4000  # number of layers\n",
    "group_n = 2  # Group Number 2\n",
    "# Recreate the tree\n",
    "tree_4000 = binomialTree(N, S0, group_n)\n",
    "stock_prices_4000 = tree_4000[\"stock_prices\"]\n",
    "# Mangling\n",
    "df_P_4000 = pd.DataFrame(stock_prices_4000)\n",
    "P_4000 = df_P_4000.iloc[-1:].to_numpy()"
   ]
  },
  {
   "cell_type": "code",
   "execution_count": 6,
   "id": "239c7a13",
   "metadata": {},
   "outputs": [],
   "source": [
    "# Calculate the frequency\n",
    "freq_arr = binomialFreq(N, relative=True)"
   ]
  },
  {
   "cell_type": "code",
   "execution_count": 7,
   "id": "033b2f2e",
   "metadata": {},
   "outputs": [
    {
     "data": {
      "image/png": "[encoded data removed]",
      "text/plain": [
       "<Figure size 1800x504 with 1 Axes>"
      ]
     },
     "metadata": {
      "needs_background": "light"
     },
     "output_type": "display_data"
    }
   ],
   "source": [
    "# Plot\n",
    "fig, ax = plt.subplots(\n",
    "    figsize=(25,7)\n",
    ")\n",
    "ax.plot(\n",
    "    P_4000[0],\n",
    "    freq_arr\n",
    ")\n",
    "ax.set_xscale('log')\n",
    "ax.set_xlabel('Log-scaled')\n",
    "plt.show()"
   ]
  },
  {
   "cell_type": "markdown",
   "id": "92996d7a",
   "metadata": {},
   "source": [
    "### b) Can you identify what type of statistical distribution do these prices resemble to?\n",
    "\n",
    "Log-normal distribution"
   ]
  },
  {
   "cell_type": "markdown",
   "id": "c8bba989",
   "metadata": {},
   "source": [
    "### c) If we defined 𝑅𝑅𝑅𝑅𝑅𝑅𝑅𝑅𝑅𝑅𝑅𝑅 = 𝐿𝐿𝐿𝐿( 𝑃𝑃𝑟𝑟𝑟𝑟𝑟𝑟𝑟𝑟𝑡𝑡 𝑃𝑃𝑃𝑃𝑃𝑃𝑃𝑃𝑃𝑃𝑡𝑡−1), that  is, using a log-function from previous prices, which statistical distribution would Returns follow? Indicate the appropriate Probability Density Function for it.\n",
    "\n",
    "Normal distribution"
   ]
  },
  {
   "cell_type": "markdown",
   "id": "6700f231",
   "metadata": {},
   "source": [
    "## Question 3\n",
    "\n",
    "### a) How many fundamental securities are there in the market?\n",
    "\n",
    "There are many fundamental securities in the markets:\n",
    "\n",
    "* Cash & Cash equivalents\n",
    "* Accounts Receivable / Notes Receivables\n",
    "* Fixed Deposits\n",
    "* Equity Shares\n",
    "* Debentures/ Bonds\n",
    "* Preference Shares\n",
    "* Mutual Funds\n",
    "* Interests in subsidiaries, associates and joint ventures\n",
    "* Insurance contracts\n",
    "* Rights and Obligations under leases\n",
    "* Share-Based Payments\n",
    "\n",
    "### b) At any given node, how many states of the world are there in the binomial tree?\n",
    "\n",
    "Each node represents 2 states of the world:\n",
    "\n",
    "* The state where the price goes up\n",
    "* The state where the price goes down\n",
    "\n",
    "### c) Define market completeness using parts a and b\n",
    "\n",
    "A complete market is one where contracts can be made to gamble on all states of the world using the existing instruments\n",
    "\n",
    "### d) Suppose the underlying stock price jumped. By jumps, we mean that it moves by a factor larger than u (or smaller than d) from 1 node to the next. Would that market still be complete? Why or why not?\n",
    "\n",
    "That market is still complete.\n",
    "\n",
    "* If the price has increased by a factor larger than u, then it has also increased (at least) u. That state of the world is still represented in the model.\n",
    "* If the price has decreased by a factor larger than d, then it has also decreased (at least) d. That state of the world is still represented in the model.\n",
    "\n",
    "## References\n",
    "\n",
    "* [Complete Market - Defintions.net](https://www.definitions.net/definition/complete+market)"
   ]
  }
 ],
 "metadata": {
  "kernelspec": {
   "display_name": "Python 3",
   "language": "python",
   "name": "python3"
  },
  "language_info": {
   "codemirror_mode": {
    "name": "ipython",
    "version": 3
   },
   "file_extension": ".py",
   "mimetype": "text/x-python",
   "name": "python",
   "nbconvert_exporter": "python",
   "pygments_lexer": "ipython3",
   "version": "3.8.5"
  }
 },
 "nbformat": 4,
 "nbformat_minor": 5
}
