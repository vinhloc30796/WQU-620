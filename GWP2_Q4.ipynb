{
 "cells": [
  {
   "cell_type": "markdown",
   "metadata": {},
   "source": [
    "# Question 4: Put Call Parity"
   ]
  },
  {
   "cell_type": "markdown",
   "metadata": {},
   "source": [
    "## Question 4.a"
   ]
  },
  {
   "cell_type": "markdown",
   "metadata": {},
   "source": [
    "When a stock option expires, there are 3 states of the world. 1) Final stock price > Strike 2) Final Stock price = Strike 3) Final Stock price < Strike. Consider a call and put with the same underlying, strike, European exercise style, and expiration. Assume a constant risk-free rate. For each state of the world, show the value of the following portfolios:\n",
    "- i) Long 1 call and short 1 put\n",
    "- ii) Long 1 stock and borrow K (strike) dollars at the risk free rate for T (option maturity) years "
   ]
  },
  {
   "cell_type": "markdown",
   "metadata": {},
   "source": [
    "The assumptions for this question are the following:\n",
    "\n",
    "$S_0=100$, $u=1.2$, $d=\\frac{1}{u}$, $p=\\frac{1-d}{u-d}$, $r=2\\%$, and $T=5$\n",
    "\n",
    "To compute the Put-Call parity, the following equation must hold:\n",
    "\\begin{equation}\n",
    "    C+PV(K)=P+S\n",
    "\\end{equation}\n",
    "\n",
    "On the left hand of the equation, $C$ is the price of a Call option, $PV(K)$ is the present value of $K$ the borrowed money at the risk free rate $r$ for time $T$. On the right hand side of the equation, $P$ is the price of Put option, and $S$ the market value of the underlying asset at time $T$. We can rewrite the equation so that,\n",
    "\n",
    "\\begin{equation}\n",
    "    C-P=S-PV(K)\n",
    "\\end{equation}\n",
    "\n",
    "1) Final stock price > Strike: $S_T=160$, $K=110$\n",
    "\n",
    "- i) The prices of the long call ($C^{+}$) and short put ($P^{-}$):\n",
    "\n",
    "  $$C^{+} = 11.5928$$\n",
    "  $$P^{-} = 20.6501$$\n",
    "  \n",
    "    The portfolio value $P_1$ is:\n",
    "    \n",
    "    $$P_1 = max(S_T-K,0)-max(K-S_T,0)=50-0=50$$\n",
    "    \n",
    "    \n",
    "- ii) The present value of the borrowed money and the price of the stock looks as follows:\n",
    "    \n",
    "    $$PV(K)=\\frac{K}{(1+r)^T}= \\frac{110}{(1+2\\%)^5}=99.6304$$\n",
    "    \n",
    "    $$S_T=S_5=160$$\n",
    "    \n",
    "    The portfolio value $P_2$ is:\n",
    "    $$P_2 = S_T-PV(K)=160-99.6304=60.3696$$\n",
    "\n",
    "\n",
    "2) Final Stock price = Strike: $S_T=110$, $K=110$\n",
    "\n",
    "- i) The prices of the long call ($C^{+}$) and short put ($P^{-}$):\n",
    "\n",
    "    $$C^{+} = 11.5928$$\n",
    "    \n",
    "    $$P^{-} = 20.6501$$\n",
    "    \n",
    "    The portfolio value $P_1$ is:\n",
    "    \n",
    "    $$P_1 = max(S_T-K,0)-max(K-S_T,0)=0-0=0$$\n",
    "    \n",
    "    \n",
    "- ii) The present value of the borrowed money and the price of the stock looks as follows:\n",
    "\n",
    "    $$PV(K)=\\frac{K}{(1+r)^T}= \\frac{110}{(1+2\\%)^5}=99.6304$$\n",
    "    \n",
    "    $$S_T=S_5=110$$\n",
    "    \n",
    "    The portfolio value $P_2$ is:\n",
    "    \n",
    "    $$P_2 = S_T-PV(K)=110-99.6304=10.3696$$\n",
    "\n",
    "3) Final Stock price < Strike: $S_T=110$, $K=160$\n",
    "\n",
    "- i) The prices of the long call ($C^{+}$) and short put ($P^{-}$):\n",
    "    \n",
    "    $$C^{+} = 2.9110$$\n",
    "  \n",
    "    $$P^{-} = 57.2548$$\n",
    "    \n",
    "    The portfolio value $P_1$ is:\n",
    "    \n",
    "    $$P_1 = max(S_T-K,0)- max(K-S_T,0)=0-50=-50$$\n",
    "    \n",
    "    \n",
    "- ii) The present value of the borrowed money and the price of the stock looks as follows:\n",
    "    \n",
    "    $$PV(K)=\\frac{K}{(1+r)^T}= \\frac{160}{(1+2\\%)^5}=144.9169$$\n",
    "    \n",
    "    $$S_T=S_5=110$$\n",
    "    \n",
    "    The portfolio value $P_2$ is:\n",
    "    \n",
    "    $$P_2 = S_T-PV(K)=110-144.9169=-34.9169$$"
   ]
  },
  {
   "cell_type": "markdown",
   "metadata": {},
   "source": [
    "## Question 4.b"
   ]
  },
  {
   "cell_type": "markdown",
   "metadata": {},
   "source": [
    "Using your answers from the previous parts, check that the call price, the put price, the stock price, and the borrowed funds satisfy put-call parity. If not, explain why it may not match more precisely. (Hint: it may not match even if you did everything correctly!)."
   ]
  },
  {
   "attachments": {},
   "cell_type": "markdown",
   "metadata": {},
   "source": [
    "From the three different scenarios, we saw that the Put-Call parity did not hold:\n",
    "\n",
    "- 1) Final stock price > Strike: $S_T=160$, $K=110$\n",
    "$$\n",
    "    C-P=S-PV(K)\n",
    "$$\n",
    "$$\n",
    "    50\\neq 60.3696\n",
    "$$\n",
    "\n",
    "- 2) Final Stock price = Strike: $S_T=110$, $K=110$\n",
    "$$\n",
    "    C-P=S-PV(K)\n",
    "$$\n",
    "$$\n",
    "   0\\neq10.3696\n",
    "$$\n",
    "\n",
    "- 3) Final Stock price < Strike: $S_T=110$, $K=160$\n",
    "$$\n",
    "    C-P=S-PV(K)\n",
    "$$\n",
    "$$\n",
    "    -50\\neq-34.9169\n",
    "$$\n",
    "\n",
    "An arbitrator might purchase and trade a more costly portfolio for the less expensive. Since the portfolios are guaranteed to be mutually cancelled at time $T$, this technique would lock an arbitration profit that is equal to the difference in the two portfolios' values (Hull, 2018). In other words, if there exists an arbitrage opportunity, we should always sell the more expensive portfolio and buy the cheaper portfolio. Moreover, many investors who engage in the same trades notice arbitration chances like this. Prices will adjust to restore parity.\n",
    "\n",
    "The Put-Call parity will only hold if and only if the options are European style, both call and put options must have the same strike price, the stock does not pay dividends, interest rates must remain unchanged until the expiration date, and there are no exchange or brokerage fees. For the previous examples, we are forcing $S_T$ to have an especific value. Moreover, we are also assuming that the intial price $S_0=100$, which also affects the valuation of the both call and put options. As an example, if we consider the following scenario we found that by solving for $S_T=90.5731$ with $K=110$, the Put-Call parity holds. We can do the same exercise with the rest of the variables to find the implicit value that will make the parity to hold."
   ]
  },
  {
   "cell_type": "markdown",
   "metadata": {},
   "source": [
    "## References "
   ]
  },
  {
   "cell_type": "markdown",
   "metadata": {},
   "source": [
    "Hull, John C. (2018).*Options, Futures, and Other Derivatives, Global Edition*. Pearson."
   ]
  }
 ],
 "metadata": {
  "kernelspec": {
   "display_name": "Python 3",
   "language": "python",
   "name": "python3"
  },
  "language_info": {
   "codemirror_mode": {
    "name": "ipython",
    "version": 3
   },
   "file_extension": ".py",
   "mimetype": "text/x-python",
   "name": "python",
   "nbconvert_exporter": "python",
   "pygments_lexer": "ipython3",
   "version": "3.8.5"
  }
 },
 "nbformat": 4,
 "nbformat_minor": 4
}
