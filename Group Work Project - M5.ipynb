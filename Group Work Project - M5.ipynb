{
 "cells": [
  {
   "cell_type": "code",
   "execution_count": 1,
   "id": "ea24babd",
   "metadata": {},
   "outputs": [],
   "source": [
    "import numpy as np\n",
    "np.set_printoptions(precision=4, suppress=True) # prettify numpy\n",
    "import pandas as pd\n",
    "pd.set_option('precision', 4) # prettify pandas\n",
    "from binomial import binomial_tree, binomial_freq, terminal_coef"
   ]
  },
  {
   "cell_type": "markdown",
   "id": "ecb35bc4",
   "metadata": {},
   "source": [
    "## 1. Write code to price a European Call option:\n",
    "\n",
    "### a. The underlying stock that is currently trading at \\\\$95. The option has a strike price of \\\\$105 and 1 year maturity. Use the Binomial model with the parameters r=0 and 3 steps in the pricing process. \n",
    "\n",
    "Additionally, set the upper movement of the price (u) to an expression that will depend on the number on your group.\n",
    "\n",
    "$$ u = (1.10 + \\frac{Group Number}{100}), $$\n",
    "\n",
    "Group 1, u = 1.11. Group 2 = 1.12. Group 3 = 1.13, …, Group 50 = 1.60\n",
    "\n",
    "You can define $d = \\frac{1}{u}$."
   ]
  },
  {
   "cell_type": "code",
   "execution_count": 2,
   "id": "2da341cf",
   "metadata": {},
   "outputs": [
    {
     "data": {
      "text/plain": [
       "0.4716981132075471"
      ]
     },
     "execution_count": 2,
     "metadata": {},
     "output_type": "execute_result"
    }
   ],
   "source": [
    "# Set starting price at $95\n",
    "S0 = 95\n",
    "# Set strike price at $105\n",
    "strike_price = 105 \n",
    "# Calculate u, d, P_star\n",
    "group_number = 2\n",
    "u = 1.10 + group_number/100; d = 1/u\n",
    "p = (1 - d) / (u - d)\n",
    "p"
   ]
  },
  {
   "cell_type": "code",
   "execution_count": 3,
   "id": "68805950",
   "metadata": {},
   "outputs": [
    {
     "data": {
      "text/html": [
       "<div>\n",
       "<style scoped>\n",
       "    .dataframe tbody tr th:only-of-type {\n",
       "        vertical-align: middle;\n",
       "    }\n",
       "\n",
       "    .dataframe tbody tr th {\n",
       "        vertical-align: top;\n",
       "    }\n",
       "\n",
       "    .dataframe thead th {\n",
       "        text-align: right;\n",
       "    }\n",
       "</style>\n",
       "<table border=\"1\" class=\"dataframe\">\n",
       "  <thead>\n",
       "    <tr style=\"text-align: right;\">\n",
       "      <th></th>\n",
       "      <th>0</th>\n",
       "      <th>1</th>\n",
       "      <th>2</th>\n",
       "      <th>3</th>\n",
       "    </tr>\n",
       "    <tr>\n",
       "      <th>Time Step</th>\n",
       "      <th></th>\n",
       "      <th></th>\n",
       "      <th></th>\n",
       "      <th></th>\n",
       "    </tr>\n",
       "  </thead>\n",
       "  <tbody>\n",
       "    <tr>\n",
       "      <th>0</th>\n",
       "      <td>95.0000</td>\n",
       "      <td>0.0000</td>\n",
       "      <td>0.000</td>\n",
       "      <td>0.0000</td>\n",
       "    </tr>\n",
       "    <tr>\n",
       "      <th>1</th>\n",
       "      <td>84.8214</td>\n",
       "      <td>106.4000</td>\n",
       "      <td>0.000</td>\n",
       "      <td>0.0000</td>\n",
       "    </tr>\n",
       "    <tr>\n",
       "      <th>2</th>\n",
       "      <td>75.7334</td>\n",
       "      <td>95.0000</td>\n",
       "      <td>119.168</td>\n",
       "      <td>0.0000</td>\n",
       "    </tr>\n",
       "    <tr>\n",
       "      <th>3</th>\n",
       "      <td>67.6191</td>\n",
       "      <td>84.8214</td>\n",
       "      <td>106.400</td>\n",
       "      <td>133.4682</td>\n",
       "    </tr>\n",
       "  </tbody>\n",
       "</table>\n",
       "</div>"
      ],
      "text/plain": [
       "                 0         1        2         3\n",
       "Time Step                                      \n",
       "0          95.0000    0.0000    0.000    0.0000\n",
       "1          84.8214  106.4000    0.000    0.0000\n",
       "2          75.7334   95.0000  119.168    0.0000\n",
       "3          67.6191   84.8214  106.400  133.4682"
      ]
     },
     "execution_count": 3,
     "metadata": {},
     "output_type": "execute_result"
    }
   ],
   "source": [
    "stock_prices_3steps = binomial_tree(\n",
    "    N=3, # 3 steps\n",
    "    S0=S0, # underlying stock starts at $95,\n",
    "    u=u,    \n",
    ")['stock_prices']\n",
    "df_stock_prices_3steps = pd.DataFrame(\n",
    "    stock_prices_3steps\n",
    ")\n",
    "df_stock_prices_3steps.index.name = \"Time Step\"\n",
    "df_stock_prices_3steps"
   ]
  },
  {
   "cell_type": "code",
   "execution_count": 4,
   "id": "bd862aec",
   "metadata": {},
   "outputs": [
    {
     "data": {
      "text/plain": [
       "array([0.1475, 0.395 , 0.3526, 0.105 ])"
      ]
     },
     "execution_count": 4,
     "metadata": {},
     "output_type": "execute_result"
    }
   ],
   "source": [
    "terminal_coef_3steps = terminal_coef(\n",
    "    N=3,\n",
    "    u=u\n",
    ")\n",
    "terminal_coef_3steps"
   ]
  },
  {
   "cell_type": "code",
   "execution_count": 5,
   "id": "107f3fda",
   "metadata": {},
   "outputs": [
    {
     "data": {
      "text/html": [
       "<div>\n",
       "<style scoped>\n",
       "    .dataframe tbody tr th:only-of-type {\n",
       "        vertical-align: middle;\n",
       "    }\n",
       "\n",
       "    .dataframe tbody tr th {\n",
       "        vertical-align: top;\n",
       "    }\n",
       "\n",
       "    .dataframe thead th {\n",
       "        text-align: right;\n",
       "    }\n",
       "</style>\n",
       "<table border=\"1\" class=\"dataframe\">\n",
       "  <thead>\n",
       "    <tr style=\"text-align: right;\">\n",
       "      <th></th>\n",
       "      <th>0</th>\n",
       "      <th>1</th>\n",
       "      <th>2</th>\n",
       "      <th>3</th>\n",
       "    </tr>\n",
       "    <tr>\n",
       "      <th>Time Step</th>\n",
       "      <th></th>\n",
       "      <th></th>\n",
       "      <th></th>\n",
       "      <th></th>\n",
       "    </tr>\n",
       "  </thead>\n",
       "  <tbody>\n",
       "    <tr>\n",
       "      <th>0</th>\n",
       "      <td>0.0</td>\n",
       "      <td>0.0</td>\n",
       "      <td>0.000</td>\n",
       "      <td>0.0000</td>\n",
       "    </tr>\n",
       "    <tr>\n",
       "      <th>1</th>\n",
       "      <td>0.0</td>\n",
       "      <td>1.4</td>\n",
       "      <td>0.000</td>\n",
       "      <td>0.0000</td>\n",
       "    </tr>\n",
       "    <tr>\n",
       "      <th>2</th>\n",
       "      <td>0.0</td>\n",
       "      <td>0.0</td>\n",
       "      <td>14.168</td>\n",
       "      <td>0.0000</td>\n",
       "    </tr>\n",
       "    <tr>\n",
       "      <th>3</th>\n",
       "      <td>0.0</td>\n",
       "      <td>0.0</td>\n",
       "      <td>1.400</td>\n",
       "      <td>28.4682</td>\n",
       "    </tr>\n",
       "  </tbody>\n",
       "</table>\n",
       "</div>"
      ],
      "text/plain": [
       "             0    1       2        3\n",
       "Time Step                           \n",
       "0          0.0  0.0   0.000   0.0000\n",
       "1          0.0  1.4   0.000   0.0000\n",
       "2          0.0  0.0  14.168   0.0000\n",
       "3          0.0  0.0   1.400  28.4682"
      ]
     },
     "execution_count": 5,
     "metadata": {},
     "output_type": "execute_result"
    }
   ],
   "source": [
    "option_payoff_3steps = np.where(\n",
    "    stock_prices_3steps > strike_price, # if underlying stock is priced higher than strike\n",
    "    stock_prices_3steps - strike_price, # then value = difference (buy low)\n",
    "    0 # else 0 (leaving option unexercised)\n",
    ")\n",
    "df_option_payoff_3steps = pd.DataFrame(\n",
    "    option_payoff_3steps\n",
    ")\n",
    "df_option_payoff_3steps.index.name = \"Time Step\"\n",
    "df_option_payoff_3steps"
   ]
  },
  {
   "cell_type": "code",
   "execution_count": 6,
   "id": "74365c1c",
   "metadata": {},
   "outputs": [
    {
     "data": {
      "text/plain": [
       "3.4814981494791057"
      ]
     },
     "execution_count": 6,
     "metadata": {},
     "output_type": "execute_result"
    }
   ],
   "source": [
    "# Value of the option at T0 = Sigma(probability for each path * value for each path)\n",
    "sum(\n",
    "    terminal_coef_3steps \\\n",
    "    * option_payoff_3steps[-1,:]\n",
    ")"
   ]
  },
  {
   "cell_type": "markdown",
   "id": "3d1e2b4b",
   "metadata": {},
   "source": [
    "#### ANSWER: \n",
    "The value of the European call option, as described by the prompt, is therefore, $\\approx 3.4815\\$."
   ]
  },
  {
   "cell_type": "markdown",
   "id": "14219e15",
   "metadata": {},
   "source": [
    "### b. Using the information from (a), show the value of the derivative, $H(\\omega)$, for each of the paths."
   ]
  },
  {
   "cell_type": "code",
   "execution_count": 7,
   "id": "c0f18095",
   "metadata": {},
   "outputs": [
    {
     "data": {
      "text/plain": [
       "0     0.0000\n",
       "1     0.0000\n",
       "2     1.4000\n",
       "3    28.4682\n",
       "Name: 3, dtype: float64"
      ]
     },
     "execution_count": 7,
     "metadata": {},
     "output_type": "execute_result"
    }
   ],
   "source": [
    "df_option_payoff_3steps.iloc[3,:]"
   ]
  },
  {
   "cell_type": "markdown",
   "id": "a8a201be",
   "metadata": {},
   "source": [
    "#### ANSWER:\n",
    "The ending payoff $H(\\omega)$ of the call option for each of the path is therefore:\n",
    "\n",
    "- $0.00$ with 0 ups\n",
    "- $0.00$ with 1 ups\n",
    "- $1.40$ with 2 ups\n",
    "- $\\approx 28.47$ with 3 ups"
   ]
  },
  {
   "cell_type": "markdown",
   "id": "dc8c0b64",
   "metadata": {},
   "source": [
    "## 2. Write code to price a European Put Option:\n",
    "\n",
    "### a. Consider the same parameters as in section (a) in part (1) above but now with N=2. What is the price of the option?"
   ]
  },
  {
   "cell_type": "code",
   "execution_count": 8,
   "id": "ba9fbf02",
   "metadata": {},
   "outputs": [
    {
     "data": {
      "text/html": [
       "<div>\n",
       "<style scoped>\n",
       "    .dataframe tbody tr th:only-of-type {\n",
       "        vertical-align: middle;\n",
       "    }\n",
       "\n",
       "    .dataframe tbody tr th {\n",
       "        vertical-align: top;\n",
       "    }\n",
       "\n",
       "    .dataframe thead th {\n",
       "        text-align: right;\n",
       "    }\n",
       "</style>\n",
       "<table border=\"1\" class=\"dataframe\">\n",
       "  <thead>\n",
       "    <tr style=\"text-align: right;\">\n",
       "      <th></th>\n",
       "      <th>0</th>\n",
       "      <th>1</th>\n",
       "      <th>2</th>\n",
       "    </tr>\n",
       "    <tr>\n",
       "      <th>Time Step</th>\n",
       "      <th></th>\n",
       "      <th></th>\n",
       "      <th></th>\n",
       "    </tr>\n",
       "  </thead>\n",
       "  <tbody>\n",
       "    <tr>\n",
       "      <th>0</th>\n",
       "      <td>95.0000</td>\n",
       "      <td>0.0</td>\n",
       "      <td>0.000</td>\n",
       "    </tr>\n",
       "    <tr>\n",
       "      <th>1</th>\n",
       "      <td>84.8214</td>\n",
       "      <td>106.4</td>\n",
       "      <td>0.000</td>\n",
       "    </tr>\n",
       "    <tr>\n",
       "      <th>2</th>\n",
       "      <td>75.7334</td>\n",
       "      <td>95.0</td>\n",
       "      <td>119.168</td>\n",
       "    </tr>\n",
       "  </tbody>\n",
       "</table>\n",
       "</div>"
      ],
      "text/plain": [
       "                 0      1        2\n",
       "Time Step                         \n",
       "0          95.0000    0.0    0.000\n",
       "1          84.8214  106.4    0.000\n",
       "2          75.7334   95.0  119.168"
      ]
     },
     "execution_count": 8,
     "metadata": {},
     "output_type": "execute_result"
    }
   ],
   "source": [
    "stock_prices_2steps = binomial_tree(\n",
    "    N=2, # 3 steps\n",
    "    S0=S0, # underlying stock starts at $95,\n",
    "    u=u,    \n",
    ")['stock_prices']\n",
    "df_stock_prices_2steps = pd.DataFrame(\n",
    "    stock_prices_2steps\n",
    ")\n",
    "df_stock_prices_2steps.index.name = \"Time Step\"\n",
    "df_stock_prices_2steps"
   ]
  },
  {
   "cell_type": "code",
   "execution_count": 9,
   "id": "2e0e0475",
   "metadata": {},
   "outputs": [
    {
     "data": {
      "text/plain": [
       "array([0.2791, 0.4984, 0.2225])"
      ]
     },
     "execution_count": 9,
     "metadata": {},
     "output_type": "execute_result"
    }
   ],
   "source": [
    "terminal_coef_2steps = terminal_coef(\n",
    "    N=2,\n",
    "    u=u,\n",
    ")\n",
    "terminal_coef_2steps"
   ]
  },
  {
   "cell_type": "code",
   "execution_count": 10,
   "id": "6950c010",
   "metadata": {},
   "outputs": [
    {
     "data": {
      "text/html": [
       "<div>\n",
       "<style scoped>\n",
       "    .dataframe tbody tr th:only-of-type {\n",
       "        vertical-align: middle;\n",
       "    }\n",
       "\n",
       "    .dataframe tbody tr th {\n",
       "        vertical-align: top;\n",
       "    }\n",
       "\n",
       "    .dataframe thead th {\n",
       "        text-align: right;\n",
       "    }\n",
       "</style>\n",
       "<table border=\"1\" class=\"dataframe\">\n",
       "  <thead>\n",
       "    <tr style=\"text-align: right;\">\n",
       "      <th></th>\n",
       "      <th>0</th>\n",
       "      <th>1</th>\n",
       "      <th>2</th>\n",
       "    </tr>\n",
       "    <tr>\n",
       "      <th>Time Step</th>\n",
       "      <th></th>\n",
       "      <th></th>\n",
       "      <th></th>\n",
       "    </tr>\n",
       "  </thead>\n",
       "  <tbody>\n",
       "    <tr>\n",
       "      <th>0</th>\n",
       "      <td>10.0000</td>\n",
       "      <td>0.0</td>\n",
       "      <td>0.0</td>\n",
       "    </tr>\n",
       "    <tr>\n",
       "      <th>1</th>\n",
       "      <td>20.1786</td>\n",
       "      <td>0.0</td>\n",
       "      <td>0.0</td>\n",
       "    </tr>\n",
       "    <tr>\n",
       "      <th>2</th>\n",
       "      <td>29.2666</td>\n",
       "      <td>10.0</td>\n",
       "      <td>0.0</td>\n",
       "    </tr>\n",
       "  </tbody>\n",
       "</table>\n",
       "</div>"
      ],
      "text/plain": [
       "                 0     1    2\n",
       "Time Step                    \n",
       "0          10.0000   0.0  0.0\n",
       "1          20.1786   0.0  0.0\n",
       "2          29.2666  10.0  0.0"
      ]
     },
     "execution_count": 10,
     "metadata": {},
     "output_type": "execute_result"
    }
   ],
   "source": [
    "option_payoff_2steps = np.where(\n",
    "    np.logical_and(\n",
    "        stock_prices_2steps < strike_price, # if underlying stock is priced lower than strike\n",
    "        stock_prices_2steps != 0 # and underlying stock is not 0.00 (technical limitation)\n",
    "    ), \n",
    "    strike_price - stock_prices_2steps, # then value = difference (sell high)\n",
    "    0 # else 0 (leaving option unexercised)\n",
    ")\n",
    "df_option_payoff_2steps = pd.DataFrame(\n",
    "    option_payoff_2steps\n",
    ")\n",
    "df_option_payoff_2steps.index.name = \"Time Step\"\n",
    "df_option_payoff_2steps"
   ]
  },
  {
   "cell_type": "code",
   "execution_count": 11,
   "id": "cb075e09",
   "metadata": {},
   "outputs": [
    {
     "data": {
      "text/plain": [
       "13.152367390530443"
      ]
     },
     "execution_count": 11,
     "metadata": {},
     "output_type": "execute_result"
    }
   ],
   "source": [
    "# Value of the option at T0 = Sigma(probability for each path * value for each path)\n",
    "sum(\n",
    "    terminal_coef_2steps \\\n",
    "    * option_payoff_2steps[-1,:]\n",
    ")"
   ]
  },
  {
   "cell_type": "code",
   "execution_count": 12,
   "id": "a7f1f157",
   "metadata": {
    "scrolled": true
   },
   "outputs": [
    {
     "data": {
      "text/plain": [
       "array([29.2666, 10.    ,  0.    ])"
      ]
     },
     "execution_count": 12,
     "metadata": {},
     "output_type": "execute_result"
    }
   ],
   "source": [
    "option_payoff_2steps[2,:]"
   ]
  },
  {
   "cell_type": "markdown",
   "id": "b746abe8",
   "metadata": {},
   "source": [
    "#### ANSWER: \n",
    "The value of the European call option, as described by the prompt, is therefore, $\\approx 12.3166\\$.\n",
    "\n",
    "The ending payoff $H(\\omega)$ for each path is:\n",
    "\n",
    "- $\\approx 29.27$ with 0 ups (i.e. 2 downs)\n",
    "- $10.00$ with 1 up (i.e. 1 downs)\n",
    "- $0.00$ with 2 ups (i.e. 0 downs)"
   ]
  },
  {
   "cell_type": "markdown",
   "id": "0e8350be",
   "metadata": {},
   "source": [
    "### b. Construct a Table (alike the ones you have in the notes) that includes, for each price path and each t when it corresponds: \n",
    "\n",
    "- the information on stock price evolution, $X_t(\\omega)$, \n",
    "- the value of the option, $V_t^H(\\omega)$, \n",
    "- the payoff of the option, $H(\\omega)$, \n",
    "- and the hedging strategy, $\\varphi_t^H$.\n",
    "\n",
    "### ANSWER\n",
    "\n",
    "The stock price evolution and corresponding option payoff can be seen below: <br>\n",
    "\n",
    "| $$\\omega$$ | $$X_0(\\omega)$$ | $$X_1(\\omega)$$ | $$X_2(\\omega)$$ | $$H(\\omega)$$ |\n",
    "|-|-:|-:|-:|-:|\n",
    "| $(u,u)$ | 95.0 | 106.4 | 119.168 | 0 |\n",
    "| $(u,d)$ | 95.0 | 106.4 | 95.0 | 10.0 |\n",
    "| $(d,u)$ | 95.0 | 84.8214 | 95.0 | 10.0 |\n",
    "| $(d,d)$ | 95.0 | 84.8214 | 75.7334 | 29.2667 |\n",
    "\n",
    "We also have $ P^* = \\frac{1-d}{u-d} \n",
    "= \\frac{1-\\frac{1}{1.12}}{1.12 - \\frac{1}{1.12}} \n",
    "\\approx 0.4717 $ and $ 1 - P^* \\approx 0.5283 $\n",
    "\n",
    "Using that, we can calculate:\n",
    "\n",
    "- $V_1^H(\\{u,.\\}) = V_1^H(\\{u,u\\})=V_1^H(\\{u,d\\}) \\approx 0.4717 \\cdot 0 + 0.5283 \\cdot 10 \\approx 5.283 $\n",
    "- $V_1^H(\\{d,.\\}) = V_1^H(\\{d,u\\})=V_1^H(\\{d,d\\}) \\approx 0.4717 \\cdot 10 + 0.5283 \\cdot 29.2666 \\approx 20.1794 $\n",
    "- $V_0^H \\approx 0.4717^2 \\cdot 0 + 2 \\cdot 0.4717 \\cdot 0.5283 \\cdot 10 + 0.5283^2 \\cdot 29.2666 \\approx 13.1523 $\n",
    "\n",
    "which is then tabulated as follows:\n",
    "\n",
    "| $$\\omega$$ | $$V_0^H$$ | $$V_1^H$$ | $$V_2^H$$ |\n",
    "|-|-:|-:|-:|\n",
    "| $(u;u)$ | 13.1523 | 5.283 | 0 |\n",
    "| $(u;d)$ | 13.1523 | 5.283 | 10 |\n",
    "| $(d;u)$ | 13.1523 | 20.1794 | 10 |\n",
    "| $(d;d)$ | 13.1523 | 20.1794 | 29.2667 |\n",
    "\n",
    "The hedging strategy is calculated by:\n",
    "\n",
    "$$\\varphi_t^H=\\frac{(V_t^H-V_{t-1}^H)}{(X_t^H-X_{t-1}^H)}$$\n",
    "\n",
    "We have the hedging strategy tabulated as follows:\n",
    "\n",
    "| $$\\omega$$ | $$\\varphi_1^H$$ | $$\\varphi_2^H $$ |\n",
    "|-|-:|-:|\n",
    "| $$(u;u)$$ | -0.6903 | -0.4138 |\n",
    "| $$(u;d)$$ | -0.6903 | -0.4138 |\n",
    "| $$(d;u)$$ | -0.6903 | -1.0000 |\n",
    "| $$(d;d)$$ | -0.6903 | -1.0000 |"
   ]
  },
  {
   "cell_type": "markdown",
   "id": "8c9fc871",
   "metadata": {},
   "source": [
    "## 3. Market Completeness Revisited\n",
    "\n",
    "### a. Form a matrix with 2 rows and 2 columns. Each row contains a state of the world (up and down). Each column contains a security (stock and bond).\n",
    "\n",
    "\n",
    "#### ANSWER:\n",
    "\n",
    "_**Matrix A**_\n",
    "\n",
    "|State of the world|Stock|Bond|\n",
    "|---|---|---|\n",
    "|up|S<sub>u</sub>|B<sub>u</sub>|\n",
    "|down|S<sub>d</sub>|B<sub>d</sub>|"
   ]
  },
  {
   "cell_type": "markdown",
   "id": "00eb8978",
   "metadata": {},
   "source": [
    "### b. Pick a specific node. Write down the values for the A matrix\n",
    "\n",
    "#### ANSWER:"
   ]
  },
  {
   "cell_type": "code",
   "execution_count": 13,
   "id": "065daf4a",
   "metadata": {},
   "outputs": [
    {
     "data": {
      "text/plain": [
       "array([[106.4   , 100.    ],\n",
       "       [ 84.8214, 100.    ]])"
      ]
     },
     "execution_count": 13,
     "metadata": {},
     "output_type": "execute_result"
    }
   ],
   "source": [
    "# Create base variables\n",
    "S_u = S0*u\n",
    "S_d = S0*d\n",
    "X_su = S_u-S0\n",
    "X_sd = S_d-S0\n",
    "B = 100 # Bonds\n",
    "\n",
    "# Create np arrays\n",
    "s_arr = np.array([S_u,S_d])\n",
    "b_arr = B*np.ones(2)\n",
    "A = np.concatenate((s_arr.reshape(2,1),b_arr.reshape(2,1)),axis=1)\n",
    "\n",
    "# Show\n",
    "A"
   ]
  },
  {
   "cell_type": "markdown",
   "id": "f33de48c",
   "metadata": {},
   "source": [
    "### c. From that node, the stock price may go up or down. Write down the b matrix (which is a column matrix). The first value in b contains the option value if the stock price went up. The second value in b contains the option value if the stock price went down.\n",
    "\n",
    "#### ANSWER:\n",
    "\n",
    "_**Matrix B**_\n",
    "\n",
    "||Option Value|\n",
    "|---|---|\n",
    "|up|V<sub>u</sub>|\n",
    "|down|V<sub>d</sub>|"
   ]
  },
  {
   "cell_type": "code",
   "execution_count": 14,
   "id": "13edb5ce",
   "metadata": {},
   "outputs": [],
   "source": [
    "option_type = 'Call'\n",
    "if option_type =='Call':\n",
    "    V_u = max(0, S_u - strike_price) # Long Call\n",
    "    V_d = max(0, S_d - strike_price) # Long Call\n",
    "elif option_type =='Put':\n",
    "    V_u = max(0, strike_price - S_u) # Long Put\n",
    "    V_d = max(0, strike_price - S_d) # Long Put\n",
    "B = np.array([V_u,V_d])"
   ]
  },
  {
   "cell_type": "markdown",
   "id": "3308b0d7",
   "metadata": {},
   "source": [
    "### d. The no-arbitrage equation can be written as Ax=b. How do you solve this equation for x?\n",
    "\n",
    "#### ANSWER:\n",
    "\n",
    "Assuming that $A$ is invertible:\n",
    "\n",
    "$$ Ax=B \\Rightarrow x=A^{-1}B $$ "
   ]
  },
  {
   "cell_type": "markdown",
   "id": "76bc2b31",
   "metadata": {},
   "source": [
    "### e. Using matrix algebra, solve for x\n",
    "\n",
    "#### ANSWER:"
   ]
  },
  {
   "cell_type": "code",
   "execution_count": 15,
   "id": "aeeabb34",
   "metadata": {},
   "outputs": [
    {
     "data": {
      "text/plain": [
       "array([ 0.0649, -0.055 ])"
      ]
     },
     "execution_count": 15,
     "metadata": {},
     "output_type": "execute_result"
    }
   ],
   "source": [
    "try:\n",
    "    A_inv = np.linalg.inv(A)\n",
    "    x_arr = np.dot(A_inv,B)\n",
    "except:\n",
    "    x_arr = np.linalg.lstsq(A,B)\n",
    "\n",
    "# Show\n",
    "x_arr"
   ]
  },
  {
   "cell_type": "code",
   "execution_count": 16,
   "id": "e269e8f6",
   "metadata": {},
   "outputs": [
    {
     "name": "stdout",
     "output_type": "stream",
     "text": [
      "Hedging portfolio of focus stock equal to 0.064879\n"
     ]
    }
   ],
   "source": [
    "m_phi = int(x_arr[0]*1000000)/1000000\n",
    "print(f\"Hedging portfolio of focus stock equal to {m_phi}\")"
   ]
  },
  {
   "cell_type": "markdown",
   "id": "a0e4aea2",
   "metadata": {},
   "source": [
    "### f. Show that your solution matches that from the binomial tree\n",
    "\n",
    "#### ANSWER:\n",
    "\n",
    "Consider probability $p$ where the asset price goes up\n",
    "\n",
    "$$ p=\\frac{1-d}{u-d} $$"
   ]
  },
  {
   "cell_type": "code",
   "execution_count": 17,
   "id": "c2de768b",
   "metadata": {},
   "outputs": [
    {
     "name": "stdout",
     "output_type": "stream",
     "text": [
      "0.4716981132075471\n"
     ]
    }
   ],
   "source": [
    "p = (1-d)/(u-d)\n",
    "print(p)"
   ]
  },
  {
   "cell_type": "markdown",
   "id": "e7ce6c60",
   "metadata": {},
   "source": [
    "Assume market is complete and the unique no-arbitrage price of $H$, we obtains the option value at $t=0$ by:\n",
    "\n",
    "$$\\pi(H) = \\sum_{\\omega\\in\\Omega}H(\\omega)\\prod_{t=1}^{T}p^{\\omega_t}(1-p)^{1-{\\omega_t}}$$"
   ]
  },
  {
   "cell_type": "code",
   "execution_count": 18,
   "id": "9f95fce6",
   "metadata": {},
   "outputs": [
    {
     "name": "stdout",
     "output_type": "stream",
     "text": [
      "0.6603773584905687\n"
     ]
    }
   ],
   "source": [
    "V_0 = p*V_u+(1-p)*V_d\n",
    "print(V_0)"
   ]
  },
  {
   "cell_type": "code",
   "execution_count": 20,
   "id": "23e85536",
   "metadata": {},
   "outputs": [
    {
     "name": "stdout",
     "output_type": "stream",
     "text": [
      "[0.06487917907977514, 0.06487917907977515]\n"
     ]
    }
   ],
   "source": [
    "phi_u = (V_u-V_0)/(S_u-S0)\n",
    "phi_d = (V_d-V_0)/(S_d-S0)\n",
    "process_phi = [phi_u,phi_d]\n",
    "print(process_phi)"
   ]
  },
  {
   "cell_type": "code",
   "execution_count": 21,
   "id": "9d541c79",
   "metadata": {},
   "outputs": [
    {
     "name": "stdout",
     "output_type": "stream",
     "text": [
      "Hedging portfolio of focus stock from the binomial tree equal to 0.064879\n"
     ]
    }
   ],
   "source": [
    "if int(process_phi[0]*1000000)/1000000==int(process_phi[1]*1000000)/1000000:\n",
    "    bi_phi = int(process_phi[0]*1000000)/1000000\n",
    "    print(\"Hedging portfolio of focus stock from the binomial tree equal to \"+ str(int(process_phi[0]*1000000)/1000000))\n",
    "else: print(\"Check pricing method\")"
   ]
  },
  {
   "cell_type": "code",
   "execution_count": 22,
   "id": "28927780",
   "metadata": {},
   "outputs": [
    {
     "name": "stdout",
     "output_type": "stream",
     "text": [
      "x from matrix algebra matches to hedging porfolio from binomial tree\n"
     ]
    }
   ],
   "source": [
    "if m_phi == bi_phi:\n",
    "    print(\"x from matrix algebra matches to hedging porfolio from binomial tree\")\n",
    "else: \n",
    "    print(\"Check pricing method\")"
   ]
  },
  {
   "cell_type": "markdown",
   "id": "0a7eea68",
   "metadata": {},
   "source": [
    "## 4. Put Call Parity\n",
    "\n",
    "### a. When a stock option expires...\n",
    "\n",
    "...there are 3 states of the world. 1) Final stock price > Strike 2) Final Stock price = Strike 3) Final Stock price < Strike. Consider a call and put with the same underlying, strike, European exercise style, and expiration. Assume a constant risk-free rate. For each state of the world, show the value of the following portfolios:\n",
    "\n",
    "- i) Long 1 call and short 1 put\n",
    "- ii) Long 1 stock and borrow K (strike) dollars at the risk free rate for T (option maturity) years \n",
    "\n",
    "#### ANSWER:\n",
    "\n",
    "The assumptions for this question are the following:\n",
    "\n",
    "$S_0=100$, $u=1.2$, $d=\\frac{1}{u}$, $p=\\frac{1-d}{u-d}$, $r=2\\%$, and $T=5$\n",
    "\n",
    "To compute the Put-Call parity, the following equation must hold:\n",
    "\\begin{equation}\n",
    "    C+PV(K)=P+S\n",
    "\\end{equation}\n",
    "\n",
    "On the left hand of the equation, $C$ is the price of a Call option, $PV(K)$ is the present value of $K$ the borrowed money at the risk free rate $r$ for time $T$. On the right hand side of the equation, $P$ is the price of Put option, and $S$ the market value of the underlying asset at time $T$. We can rewrite the equation so that,\n",
    "\n",
    "\\begin{equation}\n",
    "    C-P=S-PV(K)\n",
    "\\end{equation}\n",
    "\n",
    "1) Final stock price > Strike: $S_T=160$, $K=110$\n",
    "\n",
    "- i) The prices of the long call ($C^{+}$) and short put ($P^{-}$):\n",
    "\n",
    "  $$C^{+} = 11.5928$$\n",
    "  $$P^{-} = 20.6501$$\n",
    "  \n",
    "    The portfolio value $P_1$ is:\n",
    "    \n",
    "    $$P_1 = max(S_T-K,0)-max(K-S_T,0)=50-0=50$$\n",
    "    \n",
    "    \n",
    "- ii) The present value of the borrowed money and the price of the stock looks as follows:\n",
    "    \n",
    "    $$PV(K)=\\frac{K}{(1+r)^T}= \\frac{110}{(1+2\\%)^5}=99.6304$$\n",
    "    \n",
    "    $$S_T=S_5=160$$\n",
    "    \n",
    "    The portfolio value $P_2$ is:\n",
    "    $$P_2 = S_T-PV(K)=160-99.6304=60.3696$$\n",
    "\n",
    "\n",
    "2) Final Stock price = Strike: $S_T=110$, $K=110$\n",
    "\n",
    "- i) The prices of the long call ($C^{+}$) and short put ($P^{-}$):\n",
    "\n",
    "    $$C^{+} = 11.5928$$\n",
    "    \n",
    "    $$P^{-} = 20.6501$$\n",
    "    \n",
    "    The portfolio value $P_1$ is:\n",
    "    \n",
    "    $$P_1 = max(S_T-K,0)-max(K-S_T,0)=0-0=0$$\n",
    "    \n",
    "    \n",
    "- ii) The present value of the borrowed money and the price of the stock looks as follows:\n",
    "\n",
    "    $$PV(K)=\\frac{K}{(1+r)^T}= \\frac{110}{(1+2\\%)^5}=99.6304$$\n",
    "    \n",
    "    $$S_T=S_5=110$$\n",
    "    \n",
    "    The portfolio value $P_2$ is:\n",
    "    \n",
    "    $$P_2 = S_T-PV(K)=110-99.6304=10.3696$$\n",
    "\n",
    "3) Final Stock price < Strike: $S_T=110$, $K=160$\n",
    "\n",
    "- i) The prices of the long call ($C^{+}$) and short put ($P^{-}$):\n",
    "    \n",
    "    $$C^{+} = 2.9110$$\n",
    "  \n",
    "    $$P^{-} = 57.2548$$\n",
    "    \n",
    "    The portfolio value $P_1$ is:\n",
    "    \n",
    "    $$P_1 = max(S_T-K,0)- max(K-S_T,0)=0-50=-50$$\n",
    "    \n",
    "    \n",
    "- ii) The present value of the borrowed money and the price of the stock looks as follows:\n",
    "    \n",
    "    $$PV(K)=\\frac{K}{(1+r)^T}= \\frac{160}{(1+2\\%)^5}=144.9169$$\n",
    "    \n",
    "    $$S_T=S_5=110$$\n",
    "    \n",
    "    The portfolio value $P_2$ is:\n",
    "    \n",
    "    $$P_2 = S_T-PV(K)=110-144.9169=-34.9169$$\n",
    "    \n",
    "### b. Using your answers from the previous parts...\n",
    "\n",
    "...check that the call price, the put price, the stock price, and the borrowed funds satisfy put-call parity. If not, explain why it may not match more precisely. (Hint: it may not match even if you did everything correctly!).\n",
    "\n",
    "#### ANSWER:\n",
    "\n",
    "From the three different scenarios, we saw that the Put-Call parity did not hold:\n",
    "\n",
    "- 1) Final stock price > Strike: $S_T=160$, $K=110$\n",
    "$$\n",
    "    C-P=S-PV(K)\n",
    "$$\n",
    "$$\n",
    "    50\\neq 60.3696\n",
    "$$\n",
    "\n",
    "- 2) Final Stock price = Strike: $S_T=110$, $K=110$\n",
    "$$\n",
    "    C-P=S-PV(K)\n",
    "$$\n",
    "$$\n",
    "   0\\neq10.3696\n",
    "$$\n",
    "\n",
    "- 3) Final Stock price < Strike: $S_T=110$, $K=160$\n",
    "$$\n",
    "    C-P=S-PV(K)\n",
    "$$\n",
    "$$\n",
    "    -50\\neq-34.9169\n",
    "$$\n",
    "\n",
    "An arbitrator might purchase and trade a more costly portfolio for the less expensive. Since the portfolios are guaranteed to be mutually cancelled at time $T$, this technique would lock an arbitration profit that is equal to the difference in the two portfolios' values (Hull, 2018). In other words, if there exists an arbitrage opportunity, we should always sell the more expensive portfolio and buy the cheaper portfolio. Moreover, many investors who engage in the same trades notice arbitration chances like this. Prices will adjust to restore parity.\n",
    "\n",
    "The Put-Call parity will only hold if and only if the options are European style, both call and put options must have the same strike price, the stock does not pay dividends, interest rates must remain unchanged until the expiration date, and there are no exchange or brokerage fees. For the previous examples, we are forcing $S_T$ to have an especific value. Moreover, we are also assuming that the intial price $S_0=100$, which also affects the valuation of the both call and put options. As an example, if we consider the following scenario we found that by solving for $S_T=90.5731$ with $K=110$, the Put-Call parity holds. We can do the same exercise with the rest of the variables to find the implicit value that will make the parity to hold."
   ]
  },
  {
   "cell_type": "markdown",
   "id": "97537aa7",
   "metadata": {},
   "source": [
    "## References "
   ]
  },
  {
   "cell_type": "markdown",
   "id": "dc947129",
   "metadata": {},
   "source": [
    "Hull, John C. (2018).*Options, Futures, and Other Derivatives, Global Edition*. Pearson."
   ]
  }
 ],
 "metadata": {
  "kernelspec": {
   "display_name": "Python 3",
   "language": "python",
   "name": "python3"
  },
  "language_info": {
   "codemirror_mode": {
    "name": "ipython",
    "version": 3
   },
   "file_extension": ".py",
   "mimetype": "text/x-python",
   "name": "python",
   "nbconvert_exporter": "python",
   "pygments_lexer": "ipython3",
   "version": "3.8.10"
  }
 },
 "nbformat": 4,
 "nbformat_minor": 5
}
