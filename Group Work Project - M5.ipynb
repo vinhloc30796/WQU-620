{
 "cells": [
  {
   "cell_type": "code",
   "execution_count": 1,
   "id": "ea24babd",
   "metadata": {},
   "outputs": [],
   "source": [
    "import numpy as np\n",
    "np.set_printoptions(precision=4, suppress=True) # prettify numpy\n",
    "import pandas as pd\n",
    "pd.set_option('precision', 4) # prettify pandas\n",
    "from binomial import binomial_tree, binomial_freq, terminal_coef"
   ]
  },
  {
   "cell_type": "markdown",
   "id": "ecb35bc4",
   "metadata": {},
   "source": [
    "## 1. Write code to price a European Call option:\n",
    "\n",
    "### a. The underlying stock that is currently trading at \\\\$95. The option has a strike price of \\\\$105 and 1 year maturity. Use the Binomial model with the parameters r=0 and 3 steps in the pricing process. \n",
    "\n",
    "Additionally, set the upper movement of the price (u) to an expression that will depend on the number on your group.\n",
    "\n",
    "$$ u = (1.10 + \\frac{Group Number}{100}), $$\n",
    "\n",
    "Group 1, u = 1.11. Group 2 = 1.12. Group 3 = 1.13, …, Group 50 = 1.60\n",
    "\n",
    "You can define $d = \\frac{1}{u}$."
   ]
  },
  {
   "cell_type": "code",
   "execution_count": 2,
   "id": "2da341cf",
   "metadata": {},
   "outputs": [
    {
     "data": {
      "text/plain": [
       "0.4716981132075471"
      ]
     },
     "execution_count": 2,
     "metadata": {},
     "output_type": "execute_result"
    }
   ],
   "source": [
    "# Set strike price at $105\n",
    "strike_price = 105 \n",
    "# Calculate u, d, P_star\n",
    "group_number = 2\n",
    "u = 1.10 + group_number/100; d = 1/u\n",
    "p = (1 - d) / (u - d)\n",
    "p"
   ]
  },
  {
   "cell_type": "code",
   "execution_count": 3,
   "id": "68805950",
   "metadata": {},
   "outputs": [
    {
     "data": {
      "text/html": [
       "<div>\n",
       "<style scoped>\n",
       "    .dataframe tbody tr th:only-of-type {\n",
       "        vertical-align: middle;\n",
       "    }\n",
       "\n",
       "    .dataframe tbody tr th {\n",
       "        vertical-align: top;\n",
       "    }\n",
       "\n",
       "    .dataframe thead th {\n",
       "        text-align: right;\n",
       "    }\n",
       "</style>\n",
       "<table border=\"1\" class=\"dataframe\">\n",
       "  <thead>\n",
       "    <tr style=\"text-align: right;\">\n",
       "      <th></th>\n",
       "      <th>0</th>\n",
       "      <th>1</th>\n",
       "      <th>2</th>\n",
       "      <th>3</th>\n",
       "    </tr>\n",
       "    <tr>\n",
       "      <th>Time Step</th>\n",
       "      <th></th>\n",
       "      <th></th>\n",
       "      <th></th>\n",
       "      <th></th>\n",
       "    </tr>\n",
       "  </thead>\n",
       "  <tbody>\n",
       "    <tr>\n",
       "      <th>0</th>\n",
       "      <td>95.0000</td>\n",
       "      <td>0.0000</td>\n",
       "      <td>0.000</td>\n",
       "      <td>0.0000</td>\n",
       "    </tr>\n",
       "    <tr>\n",
       "      <th>1</th>\n",
       "      <td>84.8214</td>\n",
       "      <td>106.4000</td>\n",
       "      <td>0.000</td>\n",
       "      <td>0.0000</td>\n",
       "    </tr>\n",
       "    <tr>\n",
       "      <th>2</th>\n",
       "      <td>75.7334</td>\n",
       "      <td>95.0000</td>\n",
       "      <td>119.168</td>\n",
       "      <td>0.0000</td>\n",
       "    </tr>\n",
       "    <tr>\n",
       "      <th>3</th>\n",
       "      <td>67.6191</td>\n",
       "      <td>84.8214</td>\n",
       "      <td>106.400</td>\n",
       "      <td>133.4682</td>\n",
       "    </tr>\n",
       "  </tbody>\n",
       "</table>\n",
       "</div>"
      ],
      "text/plain": [
       "                 0         1        2         3\n",
       "Time Step                                      \n",
       "0          95.0000    0.0000    0.000    0.0000\n",
       "1          84.8214  106.4000    0.000    0.0000\n",
       "2          75.7334   95.0000  119.168    0.0000\n",
       "3          67.6191   84.8214  106.400  133.4682"
      ]
     },
     "execution_count": 3,
     "metadata": {},
     "output_type": "execute_result"
    }
   ],
   "source": [
    "stock_prices_3steps = binomial_tree(\n",
    "    N=3, # 3 steps\n",
    "    S0=95, # underlying stock starts at $95,\n",
    "    u=u,    \n",
    ")['stock_prices']\n",
    "df_stock_prices_3steps = pd.DataFrame(\n",
    "    stock_prices_3steps\n",
    ")\n",
    "df_stock_prices_3steps.index.name = \"Time Step\"\n",
    "df_stock_prices_3steps"
   ]
  },
  {
   "cell_type": "code",
   "execution_count": 4,
   "id": "bd862aec",
   "metadata": {},
   "outputs": [
    {
     "data": {
      "text/plain": [
       "array([0.1475, 0.395 , 0.3526, 0.105 ])"
      ]
     },
     "execution_count": 4,
     "metadata": {},
     "output_type": "execute_result"
    }
   ],
   "source": [
    "terminal_coef_3steps = terminal_coef(\n",
    "    N=3,\n",
    "    u=u\n",
    ")\n",
    "terminal_coef_3steps"
   ]
  },
  {
   "cell_type": "code",
   "execution_count": 5,
   "id": "107f3fda",
   "metadata": {},
   "outputs": [
    {
     "data": {
      "text/html": [
       "<div>\n",
       "<style scoped>\n",
       "    .dataframe tbody tr th:only-of-type {\n",
       "        vertical-align: middle;\n",
       "    }\n",
       "\n",
       "    .dataframe tbody tr th {\n",
       "        vertical-align: top;\n",
       "    }\n",
       "\n",
       "    .dataframe thead th {\n",
       "        text-align: right;\n",
       "    }\n",
       "</style>\n",
       "<table border=\"1\" class=\"dataframe\">\n",
       "  <thead>\n",
       "    <tr style=\"text-align: right;\">\n",
       "      <th></th>\n",
       "      <th>0</th>\n",
       "      <th>1</th>\n",
       "      <th>2</th>\n",
       "      <th>3</th>\n",
       "    </tr>\n",
       "    <tr>\n",
       "      <th>Time Step</th>\n",
       "      <th></th>\n",
       "      <th></th>\n",
       "      <th></th>\n",
       "      <th></th>\n",
       "    </tr>\n",
       "  </thead>\n",
       "  <tbody>\n",
       "    <tr>\n",
       "      <th>0</th>\n",
       "      <td>0.0</td>\n",
       "      <td>0.0</td>\n",
       "      <td>0.000</td>\n",
       "      <td>0.0000</td>\n",
       "    </tr>\n",
       "    <tr>\n",
       "      <th>1</th>\n",
       "      <td>0.0</td>\n",
       "      <td>1.4</td>\n",
       "      <td>0.000</td>\n",
       "      <td>0.0000</td>\n",
       "    </tr>\n",
       "    <tr>\n",
       "      <th>2</th>\n",
       "      <td>0.0</td>\n",
       "      <td>0.0</td>\n",
       "      <td>14.168</td>\n",
       "      <td>0.0000</td>\n",
       "    </tr>\n",
       "    <tr>\n",
       "      <th>3</th>\n",
       "      <td>0.0</td>\n",
       "      <td>0.0</td>\n",
       "      <td>1.400</td>\n",
       "      <td>28.4682</td>\n",
       "    </tr>\n",
       "  </tbody>\n",
       "</table>\n",
       "</div>"
      ],
      "text/plain": [
       "             0    1       2        3\n",
       "Time Step                           \n",
       "0          0.0  0.0   0.000   0.0000\n",
       "1          0.0  1.4   0.000   0.0000\n",
       "2          0.0  0.0  14.168   0.0000\n",
       "3          0.0  0.0   1.400  28.4682"
      ]
     },
     "execution_count": 5,
     "metadata": {},
     "output_type": "execute_result"
    }
   ],
   "source": [
    "option_payoff_3steps = np.where(\n",
    "    stock_prices_3steps > strike_price, # if underlying stock is priced higher than strike\n",
    "    stock_prices_3steps - strike_price, # then value = difference (buy low)\n",
    "    0 # else 0 (leaving option unexercised)\n",
    ")\n",
    "df_option_payoff_3steps = pd.DataFrame(\n",
    "    option_payoff_3steps\n",
    ")\n",
    "df_option_payoff_3steps.index.name = \"Time Step\"\n",
    "df_option_payoff_3steps"
   ]
  },
  {
   "cell_type": "code",
   "execution_count": 6,
   "id": "74365c1c",
   "metadata": {},
   "outputs": [
    {
     "data": {
      "text/plain": [
       "3.4814981494791057"
      ]
     },
     "execution_count": 6,
     "metadata": {},
     "output_type": "execute_result"
    }
   ],
   "source": [
    "# Value of the option at T0 = Sigma(probability for each path * value for each path)\n",
    "sum(\n",
    "    terminal_coef_3steps \\\n",
    "    * option_payoff_3steps[-1,:]\n",
    ")"
   ]
  },
  {
   "cell_type": "markdown",
   "id": "4b16d971",
   "metadata": {},
   "source": [
    "### ANSWER: \n",
    "The value of the European call option, as described by the prompt, is therefore, $\\approx 3.4815\\$."
   ]
  },
  {
   "cell_type": "markdown",
   "id": "14219e15",
   "metadata": {},
   "source": [
    "### b. Using the information from (a), show the value of the derivative, $H(\\omega)$, for each of the paths."
   ]
  },
  {
   "cell_type": "code",
   "execution_count": 7,
   "id": "c0f18095",
   "metadata": {},
   "outputs": [
    {
     "data": {
      "text/plain": [
       "0     0.0000\n",
       "1     0.0000\n",
       "2     1.4000\n",
       "3    28.4682\n",
       "Name: 3, dtype: float64"
      ]
     },
     "execution_count": 7,
     "metadata": {},
     "output_type": "execute_result"
    }
   ],
   "source": [
    "df_option_payoff_3steps.iloc[3,:]"
   ]
  },
  {
   "cell_type": "markdown",
   "id": "13d15c2f",
   "metadata": {},
   "source": [
    "### ANSWER:\n",
    "The ending payoff $H(\\omega)$ of the call option for each of the path is therefore:\n",
    "\n",
    "- $0.00$ with 0 ups\n",
    "- $0.00$ with 1 ups\n",
    "- $1.40$ with 2 ups\n",
    "- $\\approx 28.47$ with 3 ups"
   ]
  },
  {
   "cell_type": "markdown",
   "id": "dc8c0b64",
   "metadata": {},
   "source": [
    "## 2. Write code to price a European Put Option:\n",
    "\n",
    "### a. Consider the same parameters as in section (a) in part (1) above but now with N=2. What is the price of the option?"
   ]
  },
  {
   "cell_type": "code",
   "execution_count": 8,
   "id": "8900f094",
   "metadata": {},
   "outputs": [
    {
     "data": {
      "text/html": [
       "<div>\n",
       "<style scoped>\n",
       "    .dataframe tbody tr th:only-of-type {\n",
       "        vertical-align: middle;\n",
       "    }\n",
       "\n",
       "    .dataframe tbody tr th {\n",
       "        vertical-align: top;\n",
       "    }\n",
       "\n",
       "    .dataframe thead th {\n",
       "        text-align: right;\n",
       "    }\n",
       "</style>\n",
       "<table border=\"1\" class=\"dataframe\">\n",
       "  <thead>\n",
       "    <tr style=\"text-align: right;\">\n",
       "      <th></th>\n",
       "      <th>0</th>\n",
       "      <th>1</th>\n",
       "      <th>2</th>\n",
       "    </tr>\n",
       "    <tr>\n",
       "      <th>Time Step</th>\n",
       "      <th></th>\n",
       "      <th></th>\n",
       "      <th></th>\n",
       "    </tr>\n",
       "  </thead>\n",
       "  <tbody>\n",
       "    <tr>\n",
       "      <th>0</th>\n",
       "      <td>95.0000</td>\n",
       "      <td>0.0</td>\n",
       "      <td>0.000</td>\n",
       "    </tr>\n",
       "    <tr>\n",
       "      <th>1</th>\n",
       "      <td>84.8214</td>\n",
       "      <td>106.4</td>\n",
       "      <td>0.000</td>\n",
       "    </tr>\n",
       "    <tr>\n",
       "      <th>2</th>\n",
       "      <td>75.7334</td>\n",
       "      <td>95.0</td>\n",
       "      <td>119.168</td>\n",
       "    </tr>\n",
       "  </tbody>\n",
       "</table>\n",
       "</div>"
      ],
      "text/plain": [
       "                 0      1        2\n",
       "Time Step                         \n",
       "0          95.0000    0.0    0.000\n",
       "1          84.8214  106.4    0.000\n",
       "2          75.7334   95.0  119.168"
      ]
     },
     "execution_count": 8,
     "metadata": {},
     "output_type": "execute_result"
    }
   ],
   "source": [
    "stock_prices_2steps = binomial_tree(\n",
    "    N=2, # 3 steps\n",
    "    S0=95, # underlying stock starts at $95,\n",
    "    u=u,    \n",
    ")['stock_prices']\n",
    "df_stock_prices_2steps = pd.DataFrame(\n",
    "    stock_prices_2steps\n",
    ")\n",
    "df_stock_prices_2steps.index.name = \"Time Step\"\n",
    "df_stock_prices_2steps"
   ]
  },
  {
   "cell_type": "code",
   "execution_count": 9,
   "id": "8bd4d18a",
   "metadata": {},
   "outputs": [
    {
     "data": {
      "text/plain": [
       "array([0.2791, 0.4984, 0.2225])"
      ]
     },
     "execution_count": 9,
     "metadata": {},
     "output_type": "execute_result"
    }
   ],
   "source": [
    "terminal_coef_2steps = terminal_coef(\n",
    "    N=2,\n",
    "    u=u,\n",
    ")\n",
    "terminal_coef_2steps"
   ]
  },
  {
   "cell_type": "code",
   "execution_count": 10,
   "id": "c1d65667",
   "metadata": {},
   "outputs": [
    {
     "data": {
      "text/html": [
       "<div>\n",
       "<style scoped>\n",
       "    .dataframe tbody tr th:only-of-type {\n",
       "        vertical-align: middle;\n",
       "    }\n",
       "\n",
       "    .dataframe tbody tr th {\n",
       "        vertical-align: top;\n",
       "    }\n",
       "\n",
       "    .dataframe thead th {\n",
       "        text-align: right;\n",
       "    }\n",
       "</style>\n",
       "<table border=\"1\" class=\"dataframe\">\n",
       "  <thead>\n",
       "    <tr style=\"text-align: right;\">\n",
       "      <th></th>\n",
       "      <th>0</th>\n",
       "      <th>1</th>\n",
       "      <th>2</th>\n",
       "    </tr>\n",
       "    <tr>\n",
       "      <th>Time Step</th>\n",
       "      <th></th>\n",
       "      <th></th>\n",
       "      <th></th>\n",
       "    </tr>\n",
       "  </thead>\n",
       "  <tbody>\n",
       "    <tr>\n",
       "      <th>0</th>\n",
       "      <td>10.0000</td>\n",
       "      <td>0.0</td>\n",
       "      <td>0.0</td>\n",
       "    </tr>\n",
       "    <tr>\n",
       "      <th>1</th>\n",
       "      <td>20.1786</td>\n",
       "      <td>0.0</td>\n",
       "      <td>0.0</td>\n",
       "    </tr>\n",
       "    <tr>\n",
       "      <th>2</th>\n",
       "      <td>29.2666</td>\n",
       "      <td>10.0</td>\n",
       "      <td>0.0</td>\n",
       "    </tr>\n",
       "  </tbody>\n",
       "</table>\n",
       "</div>"
      ],
      "text/plain": [
       "                 0     1    2\n",
       "Time Step                    \n",
       "0          10.0000   0.0  0.0\n",
       "1          20.1786   0.0  0.0\n",
       "2          29.2666  10.0  0.0"
      ]
     },
     "execution_count": 10,
     "metadata": {},
     "output_type": "execute_result"
    }
   ],
   "source": [
    "option_payoff_2steps = np.where(\n",
    "    np.logical_and(\n",
    "        stock_prices_2steps < strike_price, # if underlying stock is priced lower than strike\n",
    "        stock_prices_2steps != 0 # and underlying stock is not 0.00 (technical limitation)\n",
    "    ), \n",
    "    strike_price - stock_prices_2steps, # then value = difference (sell high)\n",
    "    0 # else 0 (leaving option unexercised)\n",
    ")\n",
    "df_option_payoff_2steps = pd.DataFrame(\n",
    "    option_payoff_2steps\n",
    ")\n",
    "df_option_payoff_2steps.index.name = \"Time Step\"\n",
    "df_option_payoff_2steps"
   ]
  },
  {
   "cell_type": "code",
   "execution_count": 11,
   "id": "9918ffcc",
   "metadata": {},
   "outputs": [
    {
     "data": {
      "text/plain": [
       "13.152367390530443"
      ]
     },
     "execution_count": 11,
     "metadata": {},
     "output_type": "execute_result"
    }
   ],
   "source": [
    "# Value of the option at T0 = Sigma(probability for each path * value for each path)\n",
    "sum(\n",
    "    terminal_coef_2steps \\\n",
    "    * option_payoff_2steps[-1,:]\n",
    ")"
   ]
  },
  {
   "cell_type": "code",
   "execution_count": 12,
   "id": "cde33744",
   "metadata": {
    "scrolled": true
   },
   "outputs": [
    {
     "data": {
      "text/plain": [
       "array([29.2666, 10.    ,  0.    ])"
      ]
     },
     "execution_count": 12,
     "metadata": {},
     "output_type": "execute_result"
    }
   ],
   "source": [
    "option_payoff_2steps[2,:]"
   ]
  },
  {
   "cell_type": "markdown",
   "id": "1190c523",
   "metadata": {},
   "source": [
    "### ANSWER: \n",
    "The value of the European call option, as described by the prompt, is therefore, $\\approx 12.3166\\$.\n",
    "\n",
    "The ending payoff $H(\\omega)$ for each path is:\n",
    "\n",
    "- $\\approx 29.27$ with 0 ups (i.e. 2 downs)\n",
    "- $10.00$ with 1 up (i.e. 1 downs)\n",
    "- $0.00$ with 2 ups (i.e. 0 downs)"
   ]
  },
  {
   "cell_type": "markdown",
   "id": "b300f918",
   "metadata": {},
   "source": [
    "### b. Construct a Table (alike the ones you have in the notes) that includes, for each price path and each t when it corresponds: \n",
    "\n",
    "- the information on stock price evolution, $X_t(\\omega)$, \n",
    "- the value of the option, $V_t^H(\\omega)$, \n",
    "- the payoff of the option, $H(\\omega)$, \n",
    "- and the hedging strategy, $\\varphi_t^H$.\n",
    "\n",
    "### ANSWER\n",
    "\n",
    "The stock price evolution and corresponding option payoff can be seen below: <br>\n",
    "\n",
    "| $$\\omega$$ | $$X_0(\\omega)$$ | $$X_1(\\omega)$$ | $$X_2(\\omega)$$ | $$H(\\omega)$$ |\n",
    "|-|-:|-:|-:|-:|\n",
    "| $(u,u)$ | 95.0 | 106.4 | 119.168 | 0 |\n",
    "| $(u,d)$ | 95.0 | 106.4 | 95.0 | 10.0 |\n",
    "| $(d,u)$ | 95.0 | 84.8214 | 95.0 | 10.0 |\n",
    "| $(d,d)$ | 95.0 | 84.8214 | 75.7334 | 29.2667 |\n",
    "\n",
    "We also have $ P^* = \\frac{1-d}{u-d} \n",
    "= \\frac{1-\\frac{1}{1.12}}{1.12 - \\frac{1}{1.12}} \n",
    "\\approx 0.4717 $ and $ 1 - P^* \\approx 0.5283 $\n",
    "\n",
    "Using that, we can calculate:\n",
    "\n",
    "- $V_1^H(\\{u,.\\}) = V_1^H(\\{u,u\\})=V_1^H(\\{u,d\\}) \\approx 0.4717 \\cdot 0 + 0.5283 \\cdot 10 \\approx 5.283 $\n",
    "- $V_1^H(\\{d,.\\}) = V_1^H(\\{d,u\\})=V_1^H(\\{d,d\\}) \\approx 0.4717 \\cdot 10 + 0.5283 \\cdot 29.2666 \\approx 20.1794 $\n",
    "- $V_0^H \\approx 0.4717^2 \\cdot 0 + 2 \\cdot 0.4717 \\cdot 0.5283 \\cdot 10 + 0.5283^2 \\cdot 29.2666 \\approx 13.1523 $\n",
    "\n",
    "which is then tabulated as follows:\n",
    "\n",
    "| $$\\omega$$ | $$V_0^H$$ | $$V_1^H$$ | $$V_2^H$$ |\n",
    "|-|-:|-:|-:|\n",
    "| $(u;u)$ | 13.1523 | 5.283 | 0 |\n",
    "| $(u;d)$ | 13.1523 | 5.283 | 10 |\n",
    "| $(d;u)$ | 13.1523 | 20.1794 | 10 |\n",
    "| $(d;d)$ | 13.1523 | 20.1794 | 29.2667 |\n",
    "\n",
    "The hedging strategy is calculated by:\n",
    "\n",
    "$$\\varphi_t^H=\\frac{(V_t^H-V_{t-1}^H)}{(X_t^H-X_{t-1}^H)}$$\n",
    "\n",
    "We have the hedging strategy tabulated as follows:\n",
    "\n",
    "| $$\\omega$$ | $$\\varphi_1^H$$ | $$\\varphi_2^H $$ |\n",
    "|-|-:|-:|\n",
    "| $$(u;u)$$ | -0.6903 | -0.4138 |\n",
    "| $$(u;d)$$ | -0.6903 | -0.4138 |\n",
    "| $$(d;u)$$ | -0.6903 | -1.0000 |\n",
    "| $$(d;d)$$ | -0.6903 | -1.0000 |"
   ]
  }
 ],
 "metadata": {
  "kernelspec": {
   "display_name": "Python 3",
   "language": "python",
   "name": "python3"
  },
  "language_info": {
   "codemirror_mode": {
    "name": "ipython",
    "version": 3
   },
   "file_extension": ".py",
   "mimetype": "text/x-python",
   "name": "python",
   "nbconvert_exporter": "python",
   "pygments_lexer": "ipython3",
   "version": "3.8.10"
  }
 },
 "nbformat": 4,
 "nbformat_minor": 5
}
